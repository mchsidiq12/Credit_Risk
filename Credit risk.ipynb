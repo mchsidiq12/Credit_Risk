{
 "cells": [
  {
   "cell_type": "markdown",
   "id": "d0aec2c1",
   "metadata": {},
   "source": [
    "Risiko kredit adalah kerugian yang berhubungan dengan potensi kegagalan dalam memenuhi kewajiban membayar kredit ketika waktu jatuh tempo. Dengan kata lain, risiko kredit adalah kemungkinan debitur tidak mampu membayar pinjamannya. Ada 2 hal yang mempengaruhi tingkat risiko kredit, yaitu besarnya eksposur kredit serta kualitas eksposur kredit itu sendiri. Semakin tinggi utang maka semakin tinggi pula eksposur kreditnya. Sementara itu kualitas eksposur dalam risiko kredit adalah kemungkinan gagal bayar serta diukur dari kualitas cicilan yang dilakukan debitur. Jika nilai jaminan kredit debitur semakin rendah, maka kualitas eksposur kreditnya pun semakin rendah. Artinya, risiko kredit yang ditanggung akan semakin tinggi. "
   ]
  },
  {
   "cell_type": "markdown",
   "id": "8dea0636",
   "metadata": {},
   "source": [
    "Sumber: https://www.ocbc.id/id/article/2022/02/24/risiko-kredit-adalah"
   ]
  },
  {
   "cell_type": "markdown",
   "id": "5844ce35",
   "metadata": {},
   "source": [
    "# 1. **Tujuan**"
   ]
  },
  {
   "cell_type": "markdown",
   "id": "c382ca3b",
   "metadata": {},
   "source": [
    "- Membangun model yang dapat memprediksi credit risk."
   ]
  },
  {
   "cell_type": "markdown",
   "id": "a3edddd1",
   "metadata": {},
   "source": [
    "# 2. Membaca Dataset"
   ]
  },
  {
   "cell_type": "code",
   "execution_count": 133,
   "id": "7a2b62b4",
   "metadata": {},
   "outputs": [],
   "source": [
    "import requests \n",
    "import pandas as pd\n",
    "import os\n",
    "import numpy as np\n",
    "import matplotlib.pyplot as plt\n",
    "from sklearn.preprocessing import StandardScaler \n",
    "from sklearn.preprocessing import MinMaxScaler\n",
    "from sklearn.model_selection import train_test_split #untuk pemisahan data latih dan uji\n",
    "from sklearn.ensemble import RandomForestClassifier #untuk menggunakan algoritma Random Forest\n",
    "from scipy import stats\n",
    "from sklearn.metrics import f1_score\n",
    "from sklearn.metrics import average_precision_score\n",
    "from sklearn.metrics import accuracy_score\n",
    "from sklearn.metrics import mean_squared_error \n",
    "from sklearn.metrics import confusion_matrix, classification_report, precision_score, recall_score"
   ]
  },
  {
   "cell_type": "markdown",
   "id": "e7711dc4",
   "metadata": {},
   "source": [
    "Mendownload file dataset"
   ]
  },
  {
   "cell_type": "code",
   "execution_count": 134,
   "id": "b8762b01",
   "metadata": {},
   "outputs": [],
   "source": [
    "url = 'https://rakamin-lms.s3.ap-southeast-1.amazonaws.com/vix-assets/idx-partners/loan_data_2007_2014.csv'"
   ]
  },
  {
   "cell_type": "code",
   "execution_count": 135,
   "id": "6fe4222a",
   "metadata": {},
   "outputs": [
    {
     "name": "stdout",
     "output_type": "stream",
     "text": [
      "Download berhasil. File 'data_loan.csv' tersimpan\n"
     ]
    }
   ],
   "source": [
    "response = requests.get(url)\n",
    "if response.status_code == 200:\n",
    "    with open('data_loan.csv', 'wb') as file:\n",
    "        file.write(response.content)\n",
    "        print(\"Download berhasil. File 'data_loan.csv' tersimpan\")\n",
    "else:\n",
    "    print(\"Download file gagal\")"
   ]
  },
  {
   "cell_type": "markdown",
   "id": "2f6c80b9",
   "metadata": {},
   "source": [
    "Mendapatkan lokasi dataset"
   ]
  },
  {
   "cell_type": "code",
   "execution_count": 136,
   "id": "1105abe1",
   "metadata": {},
   "outputs": [
    {
     "name": "stdout",
     "output_type": "stream",
     "text": [
      "C:\\Users\\Sidik\\Idx Partners\n"
     ]
    }
   ],
   "source": [
    "print(os.getcwd())"
   ]
  },
  {
   "cell_type": "code",
   "execution_count": 260,
   "id": "fed692d0",
   "metadata": {},
   "outputs": [
    {
     "name": "stderr",
     "output_type": "stream",
     "text": [
      "C:\\Users\\Sidik\\AppData\\Local\\Temp\\ipykernel_5416\\767589813.py:1: DtypeWarning: Columns (20) have mixed types. Specify dtype option on import or set low_memory=False.\n",
      "  df = pd.read_csv('C:/Users/Sidik/Idx Partners/data_loan.csv')\n"
     ]
    }
   ],
   "source": [
    "df = pd.read_csv('C:/Users/Sidik/Idx Partners/data_loan.csv')"
   ]
  },
  {
   "cell_type": "markdown",
   "id": "7c8ce928",
   "metadata": {},
   "source": [
    "# 3. Eksplorasi DataSet"
   ]
  },
  {
   "cell_type": "markdown",
   "id": "cb6171d5",
   "metadata": {},
   "source": [
    "Menampilkan beberapa data"
   ]
  },
  {
   "cell_type": "code",
   "execution_count": 261,
   "id": "c61d4868",
   "metadata": {},
   "outputs": [
    {
     "data": {
      "text/html": [
       "<div>\n",
       "<style scoped>\n",
       "    .dataframe tbody tr th:only-of-type {\n",
       "        vertical-align: middle;\n",
       "    }\n",
       "\n",
       "    .dataframe tbody tr th {\n",
       "        vertical-align: top;\n",
       "    }\n",
       "\n",
       "    .dataframe thead th {\n",
       "        text-align: right;\n",
       "    }\n",
       "</style>\n",
       "<table border=\"1\" class=\"dataframe\">\n",
       "  <thead>\n",
       "    <tr style=\"text-align: right;\">\n",
       "      <th></th>\n",
       "      <th>Unnamed: 0</th>\n",
       "      <th>id</th>\n",
       "      <th>member_id</th>\n",
       "      <th>loan_amnt</th>\n",
       "      <th>funded_amnt</th>\n",
       "      <th>funded_amnt_inv</th>\n",
       "      <th>term</th>\n",
       "      <th>int_rate</th>\n",
       "      <th>installment</th>\n",
       "      <th>grade</th>\n",
       "      <th>...</th>\n",
       "      <th>total_bal_il</th>\n",
       "      <th>il_util</th>\n",
       "      <th>open_rv_12m</th>\n",
       "      <th>open_rv_24m</th>\n",
       "      <th>max_bal_bc</th>\n",
       "      <th>all_util</th>\n",
       "      <th>total_rev_hi_lim</th>\n",
       "      <th>inq_fi</th>\n",
       "      <th>total_cu_tl</th>\n",
       "      <th>inq_last_12m</th>\n",
       "    </tr>\n",
       "  </thead>\n",
       "  <tbody>\n",
       "    <tr>\n",
       "      <th>0</th>\n",
       "      <td>0</td>\n",
       "      <td>1077501</td>\n",
       "      <td>1296599</td>\n",
       "      <td>5000</td>\n",
       "      <td>5000</td>\n",
       "      <td>4975.0</td>\n",
       "      <td>36 months</td>\n",
       "      <td>10.65</td>\n",
       "      <td>162.87</td>\n",
       "      <td>B</td>\n",
       "      <td>...</td>\n",
       "      <td>NaN</td>\n",
       "      <td>NaN</td>\n",
       "      <td>NaN</td>\n",
       "      <td>NaN</td>\n",
       "      <td>NaN</td>\n",
       "      <td>NaN</td>\n",
       "      <td>NaN</td>\n",
       "      <td>NaN</td>\n",
       "      <td>NaN</td>\n",
       "      <td>NaN</td>\n",
       "    </tr>\n",
       "    <tr>\n",
       "      <th>1</th>\n",
       "      <td>1</td>\n",
       "      <td>1077430</td>\n",
       "      <td>1314167</td>\n",
       "      <td>2500</td>\n",
       "      <td>2500</td>\n",
       "      <td>2500.0</td>\n",
       "      <td>60 months</td>\n",
       "      <td>15.27</td>\n",
       "      <td>59.83</td>\n",
       "      <td>C</td>\n",
       "      <td>...</td>\n",
       "      <td>NaN</td>\n",
       "      <td>NaN</td>\n",
       "      <td>NaN</td>\n",
       "      <td>NaN</td>\n",
       "      <td>NaN</td>\n",
       "      <td>NaN</td>\n",
       "      <td>NaN</td>\n",
       "      <td>NaN</td>\n",
       "      <td>NaN</td>\n",
       "      <td>NaN</td>\n",
       "    </tr>\n",
       "    <tr>\n",
       "      <th>2</th>\n",
       "      <td>2</td>\n",
       "      <td>1077175</td>\n",
       "      <td>1313524</td>\n",
       "      <td>2400</td>\n",
       "      <td>2400</td>\n",
       "      <td>2400.0</td>\n",
       "      <td>36 months</td>\n",
       "      <td>15.96</td>\n",
       "      <td>84.33</td>\n",
       "      <td>C</td>\n",
       "      <td>...</td>\n",
       "      <td>NaN</td>\n",
       "      <td>NaN</td>\n",
       "      <td>NaN</td>\n",
       "      <td>NaN</td>\n",
       "      <td>NaN</td>\n",
       "      <td>NaN</td>\n",
       "      <td>NaN</td>\n",
       "      <td>NaN</td>\n",
       "      <td>NaN</td>\n",
       "      <td>NaN</td>\n",
       "    </tr>\n",
       "    <tr>\n",
       "      <th>3</th>\n",
       "      <td>3</td>\n",
       "      <td>1076863</td>\n",
       "      <td>1277178</td>\n",
       "      <td>10000</td>\n",
       "      <td>10000</td>\n",
       "      <td>10000.0</td>\n",
       "      <td>36 months</td>\n",
       "      <td>13.49</td>\n",
       "      <td>339.31</td>\n",
       "      <td>C</td>\n",
       "      <td>...</td>\n",
       "      <td>NaN</td>\n",
       "      <td>NaN</td>\n",
       "      <td>NaN</td>\n",
       "      <td>NaN</td>\n",
       "      <td>NaN</td>\n",
       "      <td>NaN</td>\n",
       "      <td>NaN</td>\n",
       "      <td>NaN</td>\n",
       "      <td>NaN</td>\n",
       "      <td>NaN</td>\n",
       "    </tr>\n",
       "    <tr>\n",
       "      <th>4</th>\n",
       "      <td>4</td>\n",
       "      <td>1075358</td>\n",
       "      <td>1311748</td>\n",
       "      <td>3000</td>\n",
       "      <td>3000</td>\n",
       "      <td>3000.0</td>\n",
       "      <td>60 months</td>\n",
       "      <td>12.69</td>\n",
       "      <td>67.79</td>\n",
       "      <td>B</td>\n",
       "      <td>...</td>\n",
       "      <td>NaN</td>\n",
       "      <td>NaN</td>\n",
       "      <td>NaN</td>\n",
       "      <td>NaN</td>\n",
       "      <td>NaN</td>\n",
       "      <td>NaN</td>\n",
       "      <td>NaN</td>\n",
       "      <td>NaN</td>\n",
       "      <td>NaN</td>\n",
       "      <td>NaN</td>\n",
       "    </tr>\n",
       "  </tbody>\n",
       "</table>\n",
       "<p>5 rows × 75 columns</p>\n",
       "</div>"
      ],
      "text/plain": [
       "   Unnamed: 0       id  member_id  loan_amnt  funded_amnt  funded_amnt_inv  \\\n",
       "0           0  1077501    1296599       5000         5000           4975.0   \n",
       "1           1  1077430    1314167       2500         2500           2500.0   \n",
       "2           2  1077175    1313524       2400         2400           2400.0   \n",
       "3           3  1076863    1277178      10000        10000          10000.0   \n",
       "4           4  1075358    1311748       3000         3000           3000.0   \n",
       "\n",
       "         term  int_rate  installment grade  ... total_bal_il il_util  \\\n",
       "0   36 months     10.65       162.87     B  ...          NaN     NaN   \n",
       "1   60 months     15.27        59.83     C  ...          NaN     NaN   \n",
       "2   36 months     15.96        84.33     C  ...          NaN     NaN   \n",
       "3   36 months     13.49       339.31     C  ...          NaN     NaN   \n",
       "4   60 months     12.69        67.79     B  ...          NaN     NaN   \n",
       "\n",
       "  open_rv_12m open_rv_24m  max_bal_bc all_util total_rev_hi_lim inq_fi  \\\n",
       "0         NaN         NaN         NaN      NaN              NaN    NaN   \n",
       "1         NaN         NaN         NaN      NaN              NaN    NaN   \n",
       "2         NaN         NaN         NaN      NaN              NaN    NaN   \n",
       "3         NaN         NaN         NaN      NaN              NaN    NaN   \n",
       "4         NaN         NaN         NaN      NaN              NaN    NaN   \n",
       "\n",
       "  total_cu_tl inq_last_12m  \n",
       "0         NaN          NaN  \n",
       "1         NaN          NaN  \n",
       "2         NaN          NaN  \n",
       "3         NaN          NaN  \n",
       "4         NaN          NaN  \n",
       "\n",
       "[5 rows x 75 columns]"
      ]
     },
     "execution_count": 261,
     "metadata": {},
     "output_type": "execute_result"
    }
   ],
   "source": [
    "df.head()"
   ]
  },
  {
   "cell_type": "markdown",
   "id": "5b78dafd",
   "metadata": {},
   "source": [
    "Mengidentifikasi kolom yang ada pada dataset"
   ]
  },
  {
   "cell_type": "code",
   "execution_count": 262,
   "id": "44cd2bb2",
   "metadata": {},
   "outputs": [
    {
     "data": {
      "text/plain": [
       "(466285, 75)"
      ]
     },
     "execution_count": 262,
     "metadata": {},
     "output_type": "execute_result"
    }
   ],
   "source": [
    "df.shape"
   ]
  },
  {
   "cell_type": "code",
   "execution_count": 263,
   "id": "6724fed5",
   "metadata": {},
   "outputs": [
    {
     "data": {
      "text/plain": [
       "array(['Unnamed: 0', 'id', 'member_id', 'loan_amnt', 'funded_amnt',\n",
       "       'funded_amnt_inv', 'term', 'int_rate', 'installment', 'grade',\n",
       "       'sub_grade', 'emp_title', 'emp_length', 'home_ownership',\n",
       "       'annual_inc', 'verification_status', 'issue_d', 'loan_status',\n",
       "       'pymnt_plan', 'url', 'desc', 'purpose', 'title', 'zip_code',\n",
       "       'addr_state', 'dti', 'delinq_2yrs', 'earliest_cr_line',\n",
       "       'inq_last_6mths', 'mths_since_last_delinq',\n",
       "       'mths_since_last_record', 'open_acc', 'pub_rec', 'revol_bal',\n",
       "       'revol_util', 'total_acc', 'initial_list_status', 'out_prncp',\n",
       "       'out_prncp_inv', 'total_pymnt', 'total_pymnt_inv',\n",
       "       'total_rec_prncp', 'total_rec_int', 'total_rec_late_fee',\n",
       "       'recoveries', 'collection_recovery_fee', 'last_pymnt_d',\n",
       "       'last_pymnt_amnt', 'next_pymnt_d', 'last_credit_pull_d',\n",
       "       'collections_12_mths_ex_med', 'mths_since_last_major_derog',\n",
       "       'policy_code', 'application_type', 'annual_inc_joint', 'dti_joint',\n",
       "       'verification_status_joint', 'acc_now_delinq', 'tot_coll_amt',\n",
       "       'tot_cur_bal', 'open_acc_6m', 'open_il_6m', 'open_il_12m',\n",
       "       'open_il_24m', 'mths_since_rcnt_il', 'total_bal_il', 'il_util',\n",
       "       'open_rv_12m', 'open_rv_24m', 'max_bal_bc', 'all_util',\n",
       "       'total_rev_hi_lim', 'inq_fi', 'total_cu_tl', 'inq_last_12m'],\n",
       "      dtype=object)"
      ]
     },
     "execution_count": 263,
     "metadata": {},
     "output_type": "execute_result"
    }
   ],
   "source": [
    "df.columns.values"
   ]
  },
  {
   "cell_type": "markdown",
   "id": "dc873a1c",
   "metadata": {},
   "source": [
    "Mendapatkan informasi detail tentang dataset"
   ]
  },
  {
   "cell_type": "code",
   "execution_count": 264,
   "id": "e457e175",
   "metadata": {},
   "outputs": [
    {
     "name": "stdout",
     "output_type": "stream",
     "text": [
      "<class 'pandas.core.frame.DataFrame'>\n",
      "RangeIndex: 466285 entries, 0 to 466284\n",
      "Data columns (total 75 columns):\n",
      " #   Column                       Non-Null Count   Dtype  \n",
      "---  ------                       --------------   -----  \n",
      " 0   Unnamed: 0                   466285 non-null  int64  \n",
      " 1   id                           466285 non-null  int64  \n",
      " 2   member_id                    466285 non-null  int64  \n",
      " 3   loan_amnt                    466285 non-null  int64  \n",
      " 4   funded_amnt                  466285 non-null  int64  \n",
      " 5   funded_amnt_inv              466285 non-null  float64\n",
      " 6   term                         466285 non-null  object \n",
      " 7   int_rate                     466285 non-null  float64\n",
      " 8   installment                  466285 non-null  float64\n",
      " 9   grade                        466285 non-null  object \n",
      " 10  sub_grade                    466285 non-null  object \n",
      " 11  emp_title                    438697 non-null  object \n",
      " 12  emp_length                   445277 non-null  object \n",
      " 13  home_ownership               466285 non-null  object \n",
      " 14  annual_inc                   466281 non-null  float64\n",
      " 15  verification_status          466285 non-null  object \n",
      " 16  issue_d                      466285 non-null  object \n",
      " 17  loan_status                  466285 non-null  object \n",
      " 18  pymnt_plan                   466285 non-null  object \n",
      " 19  url                          466285 non-null  object \n",
      " 20  desc                         125981 non-null  object \n",
      " 21  purpose                      466285 non-null  object \n",
      " 22  title                        466264 non-null  object \n",
      " 23  zip_code                     466285 non-null  object \n",
      " 24  addr_state                   466285 non-null  object \n",
      " 25  dti                          466285 non-null  float64\n",
      " 26  delinq_2yrs                  466256 non-null  float64\n",
      " 27  earliest_cr_line             466256 non-null  object \n",
      " 28  inq_last_6mths               466256 non-null  float64\n",
      " 29  mths_since_last_delinq       215934 non-null  float64\n",
      " 30  mths_since_last_record       62638 non-null   float64\n",
      " 31  open_acc                     466256 non-null  float64\n",
      " 32  pub_rec                      466256 non-null  float64\n",
      " 33  revol_bal                    466285 non-null  int64  \n",
      " 34  revol_util                   465945 non-null  float64\n",
      " 35  total_acc                    466256 non-null  float64\n",
      " 36  initial_list_status          466285 non-null  object \n",
      " 37  out_prncp                    466285 non-null  float64\n",
      " 38  out_prncp_inv                466285 non-null  float64\n",
      " 39  total_pymnt                  466285 non-null  float64\n",
      " 40  total_pymnt_inv              466285 non-null  float64\n",
      " 41  total_rec_prncp              466285 non-null  float64\n",
      " 42  total_rec_int                466285 non-null  float64\n",
      " 43  total_rec_late_fee           466285 non-null  float64\n",
      " 44  recoveries                   466285 non-null  float64\n",
      " 45  collection_recovery_fee      466285 non-null  float64\n",
      " 46  last_pymnt_d                 465909 non-null  object \n",
      " 47  last_pymnt_amnt              466285 non-null  float64\n",
      " 48  next_pymnt_d                 239071 non-null  object \n",
      " 49  last_credit_pull_d           466243 non-null  object \n",
      " 50  collections_12_mths_ex_med   466140 non-null  float64\n",
      " 51  mths_since_last_major_derog  98974 non-null   float64\n",
      " 52  policy_code                  466285 non-null  int64  \n",
      " 53  application_type             466285 non-null  object \n",
      " 54  annual_inc_joint             0 non-null       float64\n",
      " 55  dti_joint                    0 non-null       float64\n",
      " 56  verification_status_joint    0 non-null       float64\n",
      " 57  acc_now_delinq               466256 non-null  float64\n",
      " 58  tot_coll_amt                 396009 non-null  float64\n",
      " 59  tot_cur_bal                  396009 non-null  float64\n",
      " 60  open_acc_6m                  0 non-null       float64\n",
      " 61  open_il_6m                   0 non-null       float64\n",
      " 62  open_il_12m                  0 non-null       float64\n",
      " 63  open_il_24m                  0 non-null       float64\n",
      " 64  mths_since_rcnt_il           0 non-null       float64\n",
      " 65  total_bal_il                 0 non-null       float64\n",
      " 66  il_util                      0 non-null       float64\n",
      " 67  open_rv_12m                  0 non-null       float64\n",
      " 68  open_rv_24m                  0 non-null       float64\n",
      " 69  max_bal_bc                   0 non-null       float64\n",
      " 70  all_util                     0 non-null       float64\n",
      " 71  total_rev_hi_lim             396009 non-null  float64\n",
      " 72  inq_fi                       0 non-null       float64\n",
      " 73  total_cu_tl                  0 non-null       float64\n",
      " 74  inq_last_12m                 0 non-null       float64\n",
      "dtypes: float64(46), int64(7), object(22)\n",
      "memory usage: 266.8+ MB\n"
     ]
    }
   ],
   "source": [
    "df.info()"
   ]
  },
  {
   "cell_type": "markdown",
   "id": "cc0a623c",
   "metadata": {},
   "source": [
    "Menampilkan deskriptif statistik dataset"
   ]
  },
  {
   "cell_type": "code",
   "execution_count": 265,
   "id": "98941e2e",
   "metadata": {},
   "outputs": [
    {
     "data": {
      "text/html": [
       "<div>\n",
       "<style scoped>\n",
       "    .dataframe tbody tr th:only-of-type {\n",
       "        vertical-align: middle;\n",
       "    }\n",
       "\n",
       "    .dataframe tbody tr th {\n",
       "        vertical-align: top;\n",
       "    }\n",
       "\n",
       "    .dataframe thead th {\n",
       "        text-align: right;\n",
       "    }\n",
       "</style>\n",
       "<table border=\"1\" class=\"dataframe\">\n",
       "  <thead>\n",
       "    <tr style=\"text-align: right;\">\n",
       "      <th></th>\n",
       "      <th>Unnamed: 0</th>\n",
       "      <th>id</th>\n",
       "      <th>member_id</th>\n",
       "      <th>loan_amnt</th>\n",
       "      <th>funded_amnt</th>\n",
       "      <th>funded_amnt_inv</th>\n",
       "      <th>int_rate</th>\n",
       "      <th>installment</th>\n",
       "      <th>annual_inc</th>\n",
       "      <th>dti</th>\n",
       "      <th>...</th>\n",
       "      <th>total_bal_il</th>\n",
       "      <th>il_util</th>\n",
       "      <th>open_rv_12m</th>\n",
       "      <th>open_rv_24m</th>\n",
       "      <th>max_bal_bc</th>\n",
       "      <th>all_util</th>\n",
       "      <th>total_rev_hi_lim</th>\n",
       "      <th>inq_fi</th>\n",
       "      <th>total_cu_tl</th>\n",
       "      <th>inq_last_12m</th>\n",
       "    </tr>\n",
       "  </thead>\n",
       "  <tbody>\n",
       "    <tr>\n",
       "      <th>count</th>\n",
       "      <td>466285.000000</td>\n",
       "      <td>4.662850e+05</td>\n",
       "      <td>4.662850e+05</td>\n",
       "      <td>466285.000000</td>\n",
       "      <td>466285.000000</td>\n",
       "      <td>466285.000000</td>\n",
       "      <td>466285.000000</td>\n",
       "      <td>466285.000000</td>\n",
       "      <td>4.662810e+05</td>\n",
       "      <td>466285.000000</td>\n",
       "      <td>...</td>\n",
       "      <td>0.0</td>\n",
       "      <td>0.0</td>\n",
       "      <td>0.0</td>\n",
       "      <td>0.0</td>\n",
       "      <td>0.0</td>\n",
       "      <td>0.0</td>\n",
       "      <td>3.960090e+05</td>\n",
       "      <td>0.0</td>\n",
       "      <td>0.0</td>\n",
       "      <td>0.0</td>\n",
       "    </tr>\n",
       "    <tr>\n",
       "      <th>mean</th>\n",
       "      <td>233142.000000</td>\n",
       "      <td>1.307973e+07</td>\n",
       "      <td>1.459766e+07</td>\n",
       "      <td>14317.277577</td>\n",
       "      <td>14291.801044</td>\n",
       "      <td>14222.329888</td>\n",
       "      <td>13.829236</td>\n",
       "      <td>432.061201</td>\n",
       "      <td>7.327738e+04</td>\n",
       "      <td>17.218758</td>\n",
       "      <td>...</td>\n",
       "      <td>NaN</td>\n",
       "      <td>NaN</td>\n",
       "      <td>NaN</td>\n",
       "      <td>NaN</td>\n",
       "      <td>NaN</td>\n",
       "      <td>NaN</td>\n",
       "      <td>3.037909e+04</td>\n",
       "      <td>NaN</td>\n",
       "      <td>NaN</td>\n",
       "      <td>NaN</td>\n",
       "    </tr>\n",
       "    <tr>\n",
       "      <th>std</th>\n",
       "      <td>134605.029472</td>\n",
       "      <td>1.089371e+07</td>\n",
       "      <td>1.168237e+07</td>\n",
       "      <td>8286.509164</td>\n",
       "      <td>8274.371300</td>\n",
       "      <td>8297.637788</td>\n",
       "      <td>4.357587</td>\n",
       "      <td>243.485550</td>\n",
       "      <td>5.496357e+04</td>\n",
       "      <td>7.851121</td>\n",
       "      <td>...</td>\n",
       "      <td>NaN</td>\n",
       "      <td>NaN</td>\n",
       "      <td>NaN</td>\n",
       "      <td>NaN</td>\n",
       "      <td>NaN</td>\n",
       "      <td>NaN</td>\n",
       "      <td>3.724713e+04</td>\n",
       "      <td>NaN</td>\n",
       "      <td>NaN</td>\n",
       "      <td>NaN</td>\n",
       "    </tr>\n",
       "    <tr>\n",
       "      <th>min</th>\n",
       "      <td>0.000000</td>\n",
       "      <td>5.473400e+04</td>\n",
       "      <td>7.047300e+04</td>\n",
       "      <td>500.000000</td>\n",
       "      <td>500.000000</td>\n",
       "      <td>0.000000</td>\n",
       "      <td>5.420000</td>\n",
       "      <td>15.670000</td>\n",
       "      <td>1.896000e+03</td>\n",
       "      <td>0.000000</td>\n",
       "      <td>...</td>\n",
       "      <td>NaN</td>\n",
       "      <td>NaN</td>\n",
       "      <td>NaN</td>\n",
       "      <td>NaN</td>\n",
       "      <td>NaN</td>\n",
       "      <td>NaN</td>\n",
       "      <td>0.000000e+00</td>\n",
       "      <td>NaN</td>\n",
       "      <td>NaN</td>\n",
       "      <td>NaN</td>\n",
       "    </tr>\n",
       "    <tr>\n",
       "      <th>25%</th>\n",
       "      <td>116571.000000</td>\n",
       "      <td>3.639987e+06</td>\n",
       "      <td>4.379705e+06</td>\n",
       "      <td>8000.000000</td>\n",
       "      <td>8000.000000</td>\n",
       "      <td>8000.000000</td>\n",
       "      <td>10.990000</td>\n",
       "      <td>256.690000</td>\n",
       "      <td>4.500000e+04</td>\n",
       "      <td>11.360000</td>\n",
       "      <td>...</td>\n",
       "      <td>NaN</td>\n",
       "      <td>NaN</td>\n",
       "      <td>NaN</td>\n",
       "      <td>NaN</td>\n",
       "      <td>NaN</td>\n",
       "      <td>NaN</td>\n",
       "      <td>1.350000e+04</td>\n",
       "      <td>NaN</td>\n",
       "      <td>NaN</td>\n",
       "      <td>NaN</td>\n",
       "    </tr>\n",
       "    <tr>\n",
       "      <th>50%</th>\n",
       "      <td>233142.000000</td>\n",
       "      <td>1.010790e+07</td>\n",
       "      <td>1.194108e+07</td>\n",
       "      <td>12000.000000</td>\n",
       "      <td>12000.000000</td>\n",
       "      <td>12000.000000</td>\n",
       "      <td>13.660000</td>\n",
       "      <td>379.890000</td>\n",
       "      <td>6.300000e+04</td>\n",
       "      <td>16.870000</td>\n",
       "      <td>...</td>\n",
       "      <td>NaN</td>\n",
       "      <td>NaN</td>\n",
       "      <td>NaN</td>\n",
       "      <td>NaN</td>\n",
       "      <td>NaN</td>\n",
       "      <td>NaN</td>\n",
       "      <td>2.280000e+04</td>\n",
       "      <td>NaN</td>\n",
       "      <td>NaN</td>\n",
       "      <td>NaN</td>\n",
       "    </tr>\n",
       "    <tr>\n",
       "      <th>75%</th>\n",
       "      <td>349713.000000</td>\n",
       "      <td>2.073121e+07</td>\n",
       "      <td>2.300154e+07</td>\n",
       "      <td>20000.000000</td>\n",
       "      <td>20000.000000</td>\n",
       "      <td>19950.000000</td>\n",
       "      <td>16.490000</td>\n",
       "      <td>566.580000</td>\n",
       "      <td>8.896000e+04</td>\n",
       "      <td>22.780000</td>\n",
       "      <td>...</td>\n",
       "      <td>NaN</td>\n",
       "      <td>NaN</td>\n",
       "      <td>NaN</td>\n",
       "      <td>NaN</td>\n",
       "      <td>NaN</td>\n",
       "      <td>NaN</td>\n",
       "      <td>3.790000e+04</td>\n",
       "      <td>NaN</td>\n",
       "      <td>NaN</td>\n",
       "      <td>NaN</td>\n",
       "    </tr>\n",
       "    <tr>\n",
       "      <th>max</th>\n",
       "      <td>466284.000000</td>\n",
       "      <td>3.809811e+07</td>\n",
       "      <td>4.086083e+07</td>\n",
       "      <td>35000.000000</td>\n",
       "      <td>35000.000000</td>\n",
       "      <td>35000.000000</td>\n",
       "      <td>26.060000</td>\n",
       "      <td>1409.990000</td>\n",
       "      <td>7.500000e+06</td>\n",
       "      <td>39.990000</td>\n",
       "      <td>...</td>\n",
       "      <td>NaN</td>\n",
       "      <td>NaN</td>\n",
       "      <td>NaN</td>\n",
       "      <td>NaN</td>\n",
       "      <td>NaN</td>\n",
       "      <td>NaN</td>\n",
       "      <td>9.999999e+06</td>\n",
       "      <td>NaN</td>\n",
       "      <td>NaN</td>\n",
       "      <td>NaN</td>\n",
       "    </tr>\n",
       "  </tbody>\n",
       "</table>\n",
       "<p>8 rows × 53 columns</p>\n",
       "</div>"
      ],
      "text/plain": [
       "          Unnamed: 0            id     member_id      loan_amnt  \\\n",
       "count  466285.000000  4.662850e+05  4.662850e+05  466285.000000   \n",
       "mean   233142.000000  1.307973e+07  1.459766e+07   14317.277577   \n",
       "std    134605.029472  1.089371e+07  1.168237e+07    8286.509164   \n",
       "min         0.000000  5.473400e+04  7.047300e+04     500.000000   \n",
       "25%    116571.000000  3.639987e+06  4.379705e+06    8000.000000   \n",
       "50%    233142.000000  1.010790e+07  1.194108e+07   12000.000000   \n",
       "75%    349713.000000  2.073121e+07  2.300154e+07   20000.000000   \n",
       "max    466284.000000  3.809811e+07  4.086083e+07   35000.000000   \n",
       "\n",
       "         funded_amnt  funded_amnt_inv       int_rate    installment  \\\n",
       "count  466285.000000    466285.000000  466285.000000  466285.000000   \n",
       "mean    14291.801044     14222.329888      13.829236     432.061201   \n",
       "std      8274.371300      8297.637788       4.357587     243.485550   \n",
       "min       500.000000         0.000000       5.420000      15.670000   \n",
       "25%      8000.000000      8000.000000      10.990000     256.690000   \n",
       "50%     12000.000000     12000.000000      13.660000     379.890000   \n",
       "75%     20000.000000     19950.000000      16.490000     566.580000   \n",
       "max     35000.000000     35000.000000      26.060000    1409.990000   \n",
       "\n",
       "         annual_inc            dti  ...  total_bal_il  il_util  open_rv_12m  \\\n",
       "count  4.662810e+05  466285.000000  ...           0.0      0.0          0.0   \n",
       "mean   7.327738e+04      17.218758  ...           NaN      NaN          NaN   \n",
       "std    5.496357e+04       7.851121  ...           NaN      NaN          NaN   \n",
       "min    1.896000e+03       0.000000  ...           NaN      NaN          NaN   \n",
       "25%    4.500000e+04      11.360000  ...           NaN      NaN          NaN   \n",
       "50%    6.300000e+04      16.870000  ...           NaN      NaN          NaN   \n",
       "75%    8.896000e+04      22.780000  ...           NaN      NaN          NaN   \n",
       "max    7.500000e+06      39.990000  ...           NaN      NaN          NaN   \n",
       "\n",
       "       open_rv_24m  max_bal_bc  all_util  total_rev_hi_lim  inq_fi  \\\n",
       "count          0.0         0.0       0.0      3.960090e+05     0.0   \n",
       "mean           NaN         NaN       NaN      3.037909e+04     NaN   \n",
       "std            NaN         NaN       NaN      3.724713e+04     NaN   \n",
       "min            NaN         NaN       NaN      0.000000e+00     NaN   \n",
       "25%            NaN         NaN       NaN      1.350000e+04     NaN   \n",
       "50%            NaN         NaN       NaN      2.280000e+04     NaN   \n",
       "75%            NaN         NaN       NaN      3.790000e+04     NaN   \n",
       "max            NaN         NaN       NaN      9.999999e+06     NaN   \n",
       "\n",
       "       total_cu_tl  inq_last_12m  \n",
       "count          0.0           0.0  \n",
       "mean           NaN           NaN  \n",
       "std            NaN           NaN  \n",
       "min            NaN           NaN  \n",
       "25%            NaN           NaN  \n",
       "50%            NaN           NaN  \n",
       "75%            NaN           NaN  \n",
       "max            NaN           NaN  \n",
       "\n",
       "[8 rows x 53 columns]"
      ]
     },
     "execution_count": 265,
     "metadata": {},
     "output_type": "execute_result"
    }
   ],
   "source": [
    "df.describe()"
   ]
  },
  {
   "cell_type": "code",
   "execution_count": 266,
   "id": "0e782d98",
   "metadata": {},
   "outputs": [
    {
     "data": {
      "text/html": [
       "<div>\n",
       "<style scoped>\n",
       "    .dataframe tbody tr th:only-of-type {\n",
       "        vertical-align: middle;\n",
       "    }\n",
       "\n",
       "    .dataframe tbody tr th {\n",
       "        vertical-align: top;\n",
       "    }\n",
       "\n",
       "    .dataframe thead th {\n",
       "        text-align: right;\n",
       "    }\n",
       "</style>\n",
       "<table border=\"1\" class=\"dataframe\">\n",
       "  <thead>\n",
       "    <tr style=\"text-align: right;\">\n",
       "      <th></th>\n",
       "      <th>term</th>\n",
       "      <th>grade</th>\n",
       "      <th>sub_grade</th>\n",
       "      <th>emp_title</th>\n",
       "      <th>emp_length</th>\n",
       "      <th>home_ownership</th>\n",
       "      <th>verification_status</th>\n",
       "      <th>issue_d</th>\n",
       "      <th>loan_status</th>\n",
       "      <th>pymnt_plan</th>\n",
       "      <th>...</th>\n",
       "      <th>purpose</th>\n",
       "      <th>title</th>\n",
       "      <th>zip_code</th>\n",
       "      <th>addr_state</th>\n",
       "      <th>earliest_cr_line</th>\n",
       "      <th>initial_list_status</th>\n",
       "      <th>last_pymnt_d</th>\n",
       "      <th>next_pymnt_d</th>\n",
       "      <th>last_credit_pull_d</th>\n",
       "      <th>application_type</th>\n",
       "    </tr>\n",
       "  </thead>\n",
       "  <tbody>\n",
       "    <tr>\n",
       "      <th>count</th>\n",
       "      <td>466285</td>\n",
       "      <td>466285</td>\n",
       "      <td>466285</td>\n",
       "      <td>438697</td>\n",
       "      <td>445277</td>\n",
       "      <td>466285</td>\n",
       "      <td>466285</td>\n",
       "      <td>466285</td>\n",
       "      <td>466285</td>\n",
       "      <td>466285</td>\n",
       "      <td>...</td>\n",
       "      <td>466285</td>\n",
       "      <td>466264</td>\n",
       "      <td>466285</td>\n",
       "      <td>466285</td>\n",
       "      <td>466256</td>\n",
       "      <td>466285</td>\n",
       "      <td>465909</td>\n",
       "      <td>239071</td>\n",
       "      <td>466243</td>\n",
       "      <td>466285</td>\n",
       "    </tr>\n",
       "    <tr>\n",
       "      <th>unique</th>\n",
       "      <td>2</td>\n",
       "      <td>7</td>\n",
       "      <td>35</td>\n",
       "      <td>205475</td>\n",
       "      <td>11</td>\n",
       "      <td>6</td>\n",
       "      <td>3</td>\n",
       "      <td>91</td>\n",
       "      <td>9</td>\n",
       "      <td>2</td>\n",
       "      <td>...</td>\n",
       "      <td>14</td>\n",
       "      <td>63098</td>\n",
       "      <td>888</td>\n",
       "      <td>50</td>\n",
       "      <td>664</td>\n",
       "      <td>2</td>\n",
       "      <td>98</td>\n",
       "      <td>100</td>\n",
       "      <td>103</td>\n",
       "      <td>1</td>\n",
       "    </tr>\n",
       "    <tr>\n",
       "      <th>top</th>\n",
       "      <td>36 months</td>\n",
       "      <td>B</td>\n",
       "      <td>B3</td>\n",
       "      <td>Teacher</td>\n",
       "      <td>10+ years</td>\n",
       "      <td>MORTGAGE</td>\n",
       "      <td>Verified</td>\n",
       "      <td>Oct-14</td>\n",
       "      <td>Current</td>\n",
       "      <td>n</td>\n",
       "      <td>...</td>\n",
       "      <td>debt_consolidation</td>\n",
       "      <td>Debt consolidation</td>\n",
       "      <td>945xx</td>\n",
       "      <td>CA</td>\n",
       "      <td>Oct-00</td>\n",
       "      <td>f</td>\n",
       "      <td>Jan-16</td>\n",
       "      <td>Feb-16</td>\n",
       "      <td>Jan-16</td>\n",
       "      <td>INDIVIDUAL</td>\n",
       "    </tr>\n",
       "    <tr>\n",
       "      <th>freq</th>\n",
       "      <td>337953</td>\n",
       "      <td>136929</td>\n",
       "      <td>31686</td>\n",
       "      <td>5399</td>\n",
       "      <td>150049</td>\n",
       "      <td>235875</td>\n",
       "      <td>168055</td>\n",
       "      <td>38782</td>\n",
       "      <td>224226</td>\n",
       "      <td>466276</td>\n",
       "      <td>...</td>\n",
       "      <td>274195</td>\n",
       "      <td>164075</td>\n",
       "      <td>5304</td>\n",
       "      <td>71450</td>\n",
       "      <td>3674</td>\n",
       "      <td>303005</td>\n",
       "      <td>179620</td>\n",
       "      <td>208393</td>\n",
       "      <td>327699</td>\n",
       "      <td>466285</td>\n",
       "    </tr>\n",
       "  </tbody>\n",
       "</table>\n",
       "<p>4 rows × 22 columns</p>\n",
       "</div>"
      ],
      "text/plain": [
       "              term   grade sub_grade emp_title emp_length home_ownership  \\\n",
       "count       466285  466285    466285    438697     445277         466285   \n",
       "unique           2       7        35    205475         11              6   \n",
       "top      36 months       B        B3   Teacher  10+ years       MORTGAGE   \n",
       "freq        337953  136929     31686      5399     150049         235875   \n",
       "\n",
       "       verification_status issue_d loan_status pymnt_plan  ...  \\\n",
       "count               466285  466285      466285     466285  ...   \n",
       "unique                   3      91           9          2  ...   \n",
       "top               Verified  Oct-14     Current          n  ...   \n",
       "freq                168055   38782      224226     466276  ...   \n",
       "\n",
       "                   purpose               title zip_code addr_state  \\\n",
       "count               466285              466264   466285     466285   \n",
       "unique                  14               63098      888         50   \n",
       "top     debt_consolidation  Debt consolidation    945xx         CA   \n",
       "freq                274195              164075     5304      71450   \n",
       "\n",
       "       earliest_cr_line initial_list_status last_pymnt_d next_pymnt_d  \\\n",
       "count            466256              466285       465909       239071   \n",
       "unique              664                   2           98          100   \n",
       "top              Oct-00                   f       Jan-16       Feb-16   \n",
       "freq               3674              303005       179620       208393   \n",
       "\n",
       "       last_credit_pull_d application_type  \n",
       "count              466243           466285  \n",
       "unique                103                1  \n",
       "top                Jan-16       INDIVIDUAL  \n",
       "freq               327699           466285  \n",
       "\n",
       "[4 rows x 22 columns]"
      ]
     },
     "execution_count": 266,
     "metadata": {},
     "output_type": "execute_result"
    }
   ],
   "source": [
    "df.describe(include='object')"
   ]
  },
  {
   "cell_type": "code",
   "execution_count": 267,
   "id": "143712c0",
   "metadata": {},
   "outputs": [
    {
     "data": {
      "text/plain": [
       "Unnamed: 0                     466285\n",
       "id                             466285\n",
       "member_id                      466285\n",
       "loan_amnt                        1352\n",
       "funded_amnt                      1354\n",
       "funded_amnt_inv                  9854\n",
       "term                                2\n",
       "int_rate                          506\n",
       "installment                     55622\n",
       "grade                               7\n",
       "sub_grade                          35\n",
       "emp_title                      205475\n",
       "emp_length                         11\n",
       "home_ownership                      6\n",
       "annual_inc                      31901\n",
       "verification_status                 3\n",
       "issue_d                            91\n",
       "loan_status                         9\n",
       "pymnt_plan                          2\n",
       "url                            466285\n",
       "desc                           124435\n",
       "purpose                            14\n",
       "title                           63098\n",
       "zip_code                          888\n",
       "addr_state                         50\n",
       "dti                              3997\n",
       "delinq_2yrs                        24\n",
       "earliest_cr_line                  664\n",
       "inq_last_6mths                     28\n",
       "mths_since_last_delinq            145\n",
       "mths_since_last_record            123\n",
       "open_acc                           62\n",
       "pub_rec                            26\n",
       "revol_bal                       58142\n",
       "revol_util                       1269\n",
       "total_acc                         112\n",
       "initial_list_status                 2\n",
       "out_prncp                      135665\n",
       "out_prncp_inv                  141189\n",
       "total_pymnt                    351609\n",
       "total_pymnt_inv                347659\n",
       "total_rec_prncp                172713\n",
       "total_rec_int                  270249\n",
       "total_rec_late_fee               5808\n",
       "recoveries                      22773\n",
       "collection_recovery_fee         20275\n",
       "last_pymnt_d                       98\n",
       "last_pymnt_amnt                198194\n",
       "next_pymnt_d                      100\n",
       "last_credit_pull_d                103\n",
       "collections_12_mths_ex_med          9\n",
       "mths_since_last_major_derog       162\n",
       "policy_code                         1\n",
       "application_type                    1\n",
       "annual_inc_joint                    0\n",
       "dti_joint                           0\n",
       "verification_status_joint           0\n",
       "acc_now_delinq                      6\n",
       "tot_coll_amt                     6321\n",
       "tot_cur_bal                    220690\n",
       "open_acc_6m                         0\n",
       "open_il_6m                          0\n",
       "open_il_12m                         0\n",
       "open_il_24m                         0\n",
       "mths_since_rcnt_il                  0\n",
       "total_bal_il                        0\n",
       "il_util                             0\n",
       "open_rv_12m                         0\n",
       "open_rv_24m                         0\n",
       "max_bal_bc                          0\n",
       "all_util                            0\n",
       "total_rev_hi_lim                14612\n",
       "inq_fi                              0\n",
       "total_cu_tl                         0\n",
       "inq_last_12m                        0\n",
       "dtype: int64"
      ]
     },
     "execution_count": 267,
     "metadata": {},
     "output_type": "execute_result"
    }
   ],
   "source": [
    "df.nunique()"
   ]
  },
  {
   "cell_type": "code",
   "execution_count": 268,
   "id": "612c68e2",
   "metadata": {},
   "outputs": [
    {
     "data": {
      "text/plain": [
       "Unnamed: 0                       int64\n",
       "id                               int64\n",
       "member_id                        int64\n",
       "loan_amnt                        int64\n",
       "funded_amnt                      int64\n",
       "funded_amnt_inv                float64\n",
       "term                            object\n",
       "int_rate                       float64\n",
       "installment                    float64\n",
       "grade                           object\n",
       "sub_grade                       object\n",
       "emp_title                       object\n",
       "emp_length                      object\n",
       "home_ownership                  object\n",
       "annual_inc                     float64\n",
       "verification_status             object\n",
       "issue_d                         object\n",
       "loan_status                     object\n",
       "pymnt_plan                      object\n",
       "url                             object\n",
       "desc                            object\n",
       "purpose                         object\n",
       "title                           object\n",
       "zip_code                        object\n",
       "addr_state                      object\n",
       "dti                            float64\n",
       "delinq_2yrs                    float64\n",
       "earliest_cr_line                object\n",
       "inq_last_6mths                 float64\n",
       "mths_since_last_delinq         float64\n",
       "mths_since_last_record         float64\n",
       "open_acc                       float64\n",
       "pub_rec                        float64\n",
       "revol_bal                        int64\n",
       "revol_util                     float64\n",
       "total_acc                      float64\n",
       "initial_list_status             object\n",
       "out_prncp                      float64\n",
       "out_prncp_inv                  float64\n",
       "total_pymnt                    float64\n",
       "total_pymnt_inv                float64\n",
       "total_rec_prncp                float64\n",
       "total_rec_int                  float64\n",
       "total_rec_late_fee             float64\n",
       "recoveries                     float64\n",
       "collection_recovery_fee        float64\n",
       "last_pymnt_d                    object\n",
       "last_pymnt_amnt                float64\n",
       "next_pymnt_d                    object\n",
       "last_credit_pull_d              object\n",
       "collections_12_mths_ex_med     float64\n",
       "mths_since_last_major_derog    float64\n",
       "policy_code                      int64\n",
       "application_type                object\n",
       "annual_inc_joint               float64\n",
       "dti_joint                      float64\n",
       "verification_status_joint      float64\n",
       "acc_now_delinq                 float64\n",
       "tot_coll_amt                   float64\n",
       "tot_cur_bal                    float64\n",
       "open_acc_6m                    float64\n",
       "open_il_6m                     float64\n",
       "open_il_12m                    float64\n",
       "open_il_24m                    float64\n",
       "mths_since_rcnt_il             float64\n",
       "total_bal_il                   float64\n",
       "il_util                        float64\n",
       "open_rv_12m                    float64\n",
       "open_rv_24m                    float64\n",
       "max_bal_bc                     float64\n",
       "all_util                       float64\n",
       "total_rev_hi_lim               float64\n",
       "inq_fi                         float64\n",
       "total_cu_tl                    float64\n",
       "inq_last_12m                   float64\n",
       "dtype: object"
      ]
     },
     "execution_count": 268,
     "metadata": {},
     "output_type": "execute_result"
    }
   ],
   "source": [
    "df.dtypes"
   ]
  },
  {
   "cell_type": "markdown",
   "id": "73e31e86",
   "metadata": {},
   "source": [
    "# 3. Preprocessing Data"
   ]
  },
  {
   "cell_type": "code",
   "execution_count": 269,
   "id": "10219565",
   "metadata": {},
   "outputs": [],
   "source": [
    "ds = pd.DataFrame(df.copy())"
   ]
  },
  {
   "cell_type": "code",
   "execution_count": 270,
   "id": "1f664a42",
   "metadata": {},
   "outputs": [
    {
     "name": "stdout",
     "output_type": "stream",
     "text": [
      "                     Nama Kolom  Jumlah NaN\n",
      "0                    Unnamed: 0           0\n",
      "1                            id           0\n",
      "2                     member_id           0\n",
      "3                     loan_amnt           0\n",
      "4                   funded_amnt           0\n",
      "5               funded_amnt_inv           0\n",
      "6                          term           0\n",
      "7                      int_rate           0\n",
      "8                   installment           0\n",
      "9                         grade           0\n",
      "10                    sub_grade           0\n",
      "11                    emp_title       27588\n",
      "12                   emp_length       21008\n",
      "13               home_ownership           0\n",
      "14                   annual_inc           4\n",
      "15          verification_status           0\n",
      "16                      issue_d           0\n",
      "17                  loan_status           0\n",
      "18                   pymnt_plan           0\n",
      "19                          url           0\n",
      "20                         desc      340304\n",
      "21                      purpose           0\n",
      "22                        title          21\n",
      "23                     zip_code           0\n",
      "24                   addr_state           0\n",
      "25                          dti           0\n",
      "26                  delinq_2yrs          29\n",
      "27             earliest_cr_line          29\n",
      "28               inq_last_6mths          29\n",
      "29       mths_since_last_delinq      250351\n",
      "30       mths_since_last_record      403647\n",
      "31                     open_acc          29\n",
      "32                      pub_rec          29\n",
      "33                    revol_bal           0\n",
      "34                   revol_util         340\n",
      "35                    total_acc          29\n",
      "36          initial_list_status           0\n",
      "37                    out_prncp           0\n",
      "38                out_prncp_inv           0\n",
      "39                  total_pymnt           0\n",
      "40              total_pymnt_inv           0\n",
      "41              total_rec_prncp           0\n",
      "42                total_rec_int           0\n",
      "43           total_rec_late_fee           0\n",
      "44                   recoveries           0\n",
      "45      collection_recovery_fee           0\n",
      "46                 last_pymnt_d         376\n",
      "47              last_pymnt_amnt           0\n",
      "48                 next_pymnt_d      227214\n",
      "49           last_credit_pull_d          42\n",
      "50   collections_12_mths_ex_med         145\n",
      "51  mths_since_last_major_derog      367311\n",
      "52                  policy_code           0\n",
      "53             application_type           0\n",
      "54             annual_inc_joint      466285\n",
      "55                    dti_joint      466285\n",
      "56    verification_status_joint      466285\n",
      "57               acc_now_delinq          29\n",
      "58                 tot_coll_amt       70276\n",
      "59                  tot_cur_bal       70276\n",
      "60                  open_acc_6m      466285\n",
      "61                   open_il_6m      466285\n",
      "62                  open_il_12m      466285\n",
      "63                  open_il_24m      466285\n",
      "64           mths_since_rcnt_il      466285\n",
      "65                 total_bal_il      466285\n",
      "66                      il_util      466285\n",
      "67                  open_rv_12m      466285\n",
      "68                  open_rv_24m      466285\n",
      "69                   max_bal_bc      466285\n",
      "70                     all_util      466285\n",
      "71             total_rev_hi_lim       70276\n",
      "72                       inq_fi      466285\n",
      "73                  total_cu_tl      466285\n",
      "74                 inq_last_12m      466285\n"
     ]
    }
   ],
   "source": [
    "missing_values = ds.isnull().sum()\n",
    "missing_values_table = pd.DataFrame({'Nama Kolom': missing_values.index, 'Jumlah NaN': missing_values.values})\n",
    "pd.set_option('display.max_rows', 75)\n",
    "print(missing_values_table)"
   ]
  },
  {
   "cell_type": "code",
   "execution_count": 271,
   "id": "3e0fb6e5",
   "metadata": {},
   "outputs": [],
   "source": [
    "kolom_drop = ['Unnamed: 0', 'id', 'member_id',  'url', 'desc', 'policy_code', 'desc', \n",
    "              'next_pymnt_d', 'annual_inc_joint', 'emp_length',\n",
    "              'dti_joint', 'verification_status_joint', 'open_acc_6m', 'open_il_6m', 'open_il_12m', 'all_util',\n",
    "              'open_il_24m', 'mths_since_rcnt_il', 'total_bal_il', 'il_util', 'open_rv_12m', 'open_rv_24m', 'title',\n",
    "              'mths_since_rcnt_il', 'max_bal_bc', 'total_rev_hi_lim', 'inq_fi', 'total_cu_tl', 'inq_last_12m', 'int_rate', \n",
    "              'funded_amnt', 'funded_amnt_inv', 'loan_amnt', 'emp_title', 'last_credit_pull_d']\n"
   ]
  },
  {
   "cell_type": "code",
   "execution_count": 272,
   "id": "45dde2a1",
   "metadata": {},
   "outputs": [],
   "source": [
    "ds = ds.drop(kolom_drop, axis=1)"
   ]
  },
  {
   "cell_type": "code",
   "execution_count": 273,
   "id": "20d6c56a",
   "metadata": {},
   "outputs": [
    {
     "data": {
      "text/plain": [
       "(466285, 42)"
      ]
     },
     "execution_count": 273,
     "metadata": {},
     "output_type": "execute_result"
    }
   ],
   "source": [
    "ds.shape"
   ]
  },
  {
   "cell_type": "code",
   "execution_count": 274,
   "id": "0dba0bfe",
   "metadata": {},
   "outputs": [
    {
     "data": {
      "text/plain": [
       "0"
      ]
     },
     "execution_count": 274,
     "metadata": {},
     "output_type": "execute_result"
    }
   ],
   "source": [
    "ds.duplicated().sum()"
   ]
  },
  {
   "cell_type": "code",
   "execution_count": 275,
   "id": "44a31f9c",
   "metadata": {},
   "outputs": [],
   "source": [
    "ds.dropna(subset=['revol_util', 'last_pymnt_d', 'collections_12_mths_ex_med', 'tot_cur_bal', 'tot_coll_amt'], inplace = True)"
   ]
  },
  {
   "cell_type": "code",
   "execution_count": 276,
   "id": "1013eefe",
   "metadata": {},
   "outputs": [],
   "source": [
    "ds = pd.DataFrame(ds)"
   ]
  },
  {
   "cell_type": "code",
   "execution_count": 277,
   "id": "2c562935",
   "metadata": {},
   "outputs": [
    {
     "name": "stdout",
     "output_type": "stream",
     "text": [
      "                     Nama Kolom  Jumlah NaN\n",
      "0                          term           0\n",
      "1                   installment           0\n",
      "2                         grade           0\n",
      "3                     sub_grade           0\n",
      "4                home_ownership           0\n",
      "5                    annual_inc           0\n",
      "6           verification_status           0\n",
      "7                       issue_d           0\n",
      "8                   loan_status           0\n",
      "9                    pymnt_plan           0\n",
      "10                      purpose           0\n",
      "11                     zip_code           0\n",
      "12                   addr_state           0\n",
      "13                          dti           0\n",
      "14                  delinq_2yrs           0\n",
      "15             earliest_cr_line           0\n",
      "16               inq_last_6mths           0\n",
      "17       mths_since_last_delinq      204895\n",
      "18       mths_since_last_record      337427\n",
      "19                     open_acc           0\n",
      "20                      pub_rec           0\n",
      "21                    revol_bal           0\n",
      "22                   revol_util           0\n",
      "23                    total_acc           0\n",
      "24          initial_list_status           0\n",
      "25                    out_prncp           0\n",
      "26                out_prncp_inv           0\n",
      "27                  total_pymnt           0\n",
      "28              total_pymnt_inv           0\n",
      "29              total_rec_prncp           0\n",
      "30                total_rec_int           0\n",
      "31           total_rec_late_fee           0\n",
      "32                   recoveries           0\n",
      "33      collection_recovery_fee           0\n",
      "34                 last_pymnt_d           0\n",
      "35              last_pymnt_amnt           0\n",
      "36   collections_12_mths_ex_med           0\n",
      "37  mths_since_last_major_derog      296694\n",
      "38             application_type           0\n",
      "39               acc_now_delinq           0\n",
      "40                 tot_coll_amt           0\n",
      "41                  tot_cur_bal           0\n"
     ]
    }
   ],
   "source": [
    "missing_values = ds.isnull().sum()\n",
    "missing_values_table = pd.DataFrame({'Nama Kolom': missing_values.index, 'Jumlah NaN': missing_values.values})\n",
    "pd.set_option('display.max_rows', 75)\n",
    "print(missing_values_table)"
   ]
  },
  {
   "cell_type": "code",
   "execution_count": 278,
   "id": "c6a26381",
   "metadata": {},
   "outputs": [
    {
     "data": {
      "text/plain": [
       "(395530, 42)"
      ]
     },
     "execution_count": 278,
     "metadata": {},
     "output_type": "execute_result"
    }
   ],
   "source": [
    "ds.shape"
   ]
  },
  {
   "cell_type": "code",
   "execution_count": 279,
   "id": "019ae150",
   "metadata": {},
   "outputs": [
    {
     "data": {
      "text/html": [
       "<div>\n",
       "<style scoped>\n",
       "    .dataframe tbody tr th:only-of-type {\n",
       "        vertical-align: middle;\n",
       "    }\n",
       "\n",
       "    .dataframe tbody tr th {\n",
       "        vertical-align: top;\n",
       "    }\n",
       "\n",
       "    .dataframe thead th {\n",
       "        text-align: right;\n",
       "    }\n",
       "</style>\n",
       "<table border=\"1\" class=\"dataframe\">\n",
       "  <thead>\n",
       "    <tr style=\"text-align: right;\">\n",
       "      <th></th>\n",
       "      <th>term</th>\n",
       "      <th>installment</th>\n",
       "      <th>grade</th>\n",
       "      <th>sub_grade</th>\n",
       "      <th>home_ownership</th>\n",
       "      <th>annual_inc</th>\n",
       "      <th>verification_status</th>\n",
       "      <th>issue_d</th>\n",
       "      <th>loan_status</th>\n",
       "      <th>pymnt_plan</th>\n",
       "      <th>...</th>\n",
       "      <th>recoveries</th>\n",
       "      <th>collection_recovery_fee</th>\n",
       "      <th>last_pymnt_d</th>\n",
       "      <th>last_pymnt_amnt</th>\n",
       "      <th>collections_12_mths_ex_med</th>\n",
       "      <th>mths_since_last_major_derog</th>\n",
       "      <th>application_type</th>\n",
       "      <th>acc_now_delinq</th>\n",
       "      <th>tot_coll_amt</th>\n",
       "      <th>tot_cur_bal</th>\n",
       "    </tr>\n",
       "  </thead>\n",
       "  <tbody>\n",
       "    <tr>\n",
       "      <th>42535</th>\n",
       "      <td>36 months</td>\n",
       "      <td>885.46</td>\n",
       "      <td>B</td>\n",
       "      <td>B2</td>\n",
       "      <td>OWN</td>\n",
       "      <td>55000.0</td>\n",
       "      <td>Verified</td>\n",
       "      <td>Dec-13</td>\n",
       "      <td>Current</td>\n",
       "      <td>n</td>\n",
       "      <td>...</td>\n",
       "      <td>0.0</td>\n",
       "      <td>0.0</td>\n",
       "      <td>Jan-16</td>\n",
       "      <td>885.46</td>\n",
       "      <td>0.0</td>\n",
       "      <td>NaN</td>\n",
       "      <td>INDIVIDUAL</td>\n",
       "      <td>0.0</td>\n",
       "      <td>0.0</td>\n",
       "      <td>114834.0</td>\n",
       "    </tr>\n",
       "    <tr>\n",
       "      <th>42536</th>\n",
       "      <td>36 months</td>\n",
       "      <td>333.14</td>\n",
       "      <td>C</td>\n",
       "      <td>C1</td>\n",
       "      <td>RENT</td>\n",
       "      <td>26000.0</td>\n",
       "      <td>Not Verified</td>\n",
       "      <td>Dec-13</td>\n",
       "      <td>Current</td>\n",
       "      <td>n</td>\n",
       "      <td>...</td>\n",
       "      <td>0.0</td>\n",
       "      <td>0.0</td>\n",
       "      <td>Jan-16</td>\n",
       "      <td>333.14</td>\n",
       "      <td>0.0</td>\n",
       "      <td>NaN</td>\n",
       "      <td>INDIVIDUAL</td>\n",
       "      <td>0.0</td>\n",
       "      <td>0.0</td>\n",
       "      <td>14123.0</td>\n",
       "    </tr>\n",
       "    <tr>\n",
       "      <th>42537</th>\n",
       "      <td>36 months</td>\n",
       "      <td>368.45</td>\n",
       "      <td>A</td>\n",
       "      <td>A2</td>\n",
       "      <td>MORTGAGE</td>\n",
       "      <td>105000.0</td>\n",
       "      <td>Not Verified</td>\n",
       "      <td>Dec-13</td>\n",
       "      <td>Current</td>\n",
       "      <td>n</td>\n",
       "      <td>...</td>\n",
       "      <td>0.0</td>\n",
       "      <td>0.0</td>\n",
       "      <td>Jan-16</td>\n",
       "      <td>368.45</td>\n",
       "      <td>0.0</td>\n",
       "      <td>NaN</td>\n",
       "      <td>INDIVIDUAL</td>\n",
       "      <td>0.0</td>\n",
       "      <td>0.0</td>\n",
       "      <td>267646.0</td>\n",
       "    </tr>\n",
       "    <tr>\n",
       "      <th>42538</th>\n",
       "      <td>36 months</td>\n",
       "      <td>407.40</td>\n",
       "      <td>B</td>\n",
       "      <td>B5</td>\n",
       "      <td>RENT</td>\n",
       "      <td>40000.0</td>\n",
       "      <td>Source Verified</td>\n",
       "      <td>Dec-13</td>\n",
       "      <td>Fully Paid</td>\n",
       "      <td>n</td>\n",
       "      <td>...</td>\n",
       "      <td>0.0</td>\n",
       "      <td>0.0</td>\n",
       "      <td>Sep-15</td>\n",
       "      <td>119.17</td>\n",
       "      <td>0.0</td>\n",
       "      <td>53.0</td>\n",
       "      <td>INDIVIDUAL</td>\n",
       "      <td>0.0</td>\n",
       "      <td>15386.0</td>\n",
       "      <td>13605.0</td>\n",
       "    </tr>\n",
       "    <tr>\n",
       "      <th>42539</th>\n",
       "      <td>36 months</td>\n",
       "      <td>476.30</td>\n",
       "      <td>A</td>\n",
       "      <td>A5</td>\n",
       "      <td>MORTGAGE</td>\n",
       "      <td>63000.0</td>\n",
       "      <td>Not Verified</td>\n",
       "      <td>Dec-13</td>\n",
       "      <td>Current</td>\n",
       "      <td>n</td>\n",
       "      <td>...</td>\n",
       "      <td>0.0</td>\n",
       "      <td>0.0</td>\n",
       "      <td>Jan-16</td>\n",
       "      <td>476.30</td>\n",
       "      <td>0.0</td>\n",
       "      <td>34.0</td>\n",
       "      <td>INDIVIDUAL</td>\n",
       "      <td>0.0</td>\n",
       "      <td>1514.0</td>\n",
       "      <td>272492.0</td>\n",
       "    </tr>\n",
       "  </tbody>\n",
       "</table>\n",
       "<p>5 rows × 42 columns</p>\n",
       "</div>"
      ],
      "text/plain": [
       "             term  installment grade sub_grade home_ownership  annual_inc  \\\n",
       "42535   36 months       885.46     B        B2            OWN     55000.0   \n",
       "42536   36 months       333.14     C        C1           RENT     26000.0   \n",
       "42537   36 months       368.45     A        A2       MORTGAGE    105000.0   \n",
       "42538   36 months       407.40     B        B5           RENT     40000.0   \n",
       "42539   36 months       476.30     A        A5       MORTGAGE     63000.0   \n",
       "\n",
       "      verification_status issue_d loan_status pymnt_plan  ... recoveries  \\\n",
       "42535            Verified  Dec-13     Current          n  ...        0.0   \n",
       "42536        Not Verified  Dec-13     Current          n  ...        0.0   \n",
       "42537        Not Verified  Dec-13     Current          n  ...        0.0   \n",
       "42538     Source Verified  Dec-13  Fully Paid          n  ...        0.0   \n",
       "42539        Not Verified  Dec-13     Current          n  ...        0.0   \n",
       "\n",
       "      collection_recovery_fee last_pymnt_d  last_pymnt_amnt  \\\n",
       "42535                     0.0       Jan-16           885.46   \n",
       "42536                     0.0       Jan-16           333.14   \n",
       "42537                     0.0       Jan-16           368.45   \n",
       "42538                     0.0       Sep-15           119.17   \n",
       "42539                     0.0       Jan-16           476.30   \n",
       "\n",
       "       collections_12_mths_ex_med mths_since_last_major_derog  \\\n",
       "42535                         0.0                         NaN   \n",
       "42536                         0.0                         NaN   \n",
       "42537                         0.0                         NaN   \n",
       "42538                         0.0                        53.0   \n",
       "42539                         0.0                        34.0   \n",
       "\n",
       "       application_type  acc_now_delinq  tot_coll_amt  tot_cur_bal  \n",
       "42535        INDIVIDUAL             0.0           0.0     114834.0  \n",
       "42536        INDIVIDUAL             0.0           0.0      14123.0  \n",
       "42537        INDIVIDUAL             0.0           0.0     267646.0  \n",
       "42538        INDIVIDUAL             0.0       15386.0      13605.0  \n",
       "42539        INDIVIDUAL             0.0        1514.0     272492.0  \n",
       "\n",
       "[5 rows x 42 columns]"
      ]
     },
     "execution_count": 279,
     "metadata": {},
     "output_type": "execute_result"
    }
   ],
   "source": [
    "ds.head()"
   ]
  },
  {
   "cell_type": "code",
   "execution_count": 280,
   "id": "6c816647",
   "metadata": {},
   "outputs": [
    {
     "data": {
      "text/plain": [
       "term                            object\n",
       "installment                    float64\n",
       "grade                           object\n",
       "sub_grade                       object\n",
       "home_ownership                  object\n",
       "annual_inc                     float64\n",
       "verification_status             object\n",
       "issue_d                         object\n",
       "loan_status                     object\n",
       "pymnt_plan                      object\n",
       "purpose                         object\n",
       "zip_code                        object\n",
       "addr_state                      object\n",
       "dti                            float64\n",
       "delinq_2yrs                    float64\n",
       "earliest_cr_line                object\n",
       "inq_last_6mths                 float64\n",
       "mths_since_last_delinq         float64\n",
       "mths_since_last_record         float64\n",
       "open_acc                       float64\n",
       "pub_rec                        float64\n",
       "revol_bal                        int64\n",
       "revol_util                     float64\n",
       "total_acc                      float64\n",
       "initial_list_status             object\n",
       "out_prncp                      float64\n",
       "out_prncp_inv                  float64\n",
       "total_pymnt                    float64\n",
       "total_pymnt_inv                float64\n",
       "total_rec_prncp                float64\n",
       "total_rec_int                  float64\n",
       "total_rec_late_fee             float64\n",
       "recoveries                     float64\n",
       "collection_recovery_fee        float64\n",
       "last_pymnt_d                    object\n",
       "last_pymnt_amnt                float64\n",
       "collections_12_mths_ex_med     float64\n",
       "mths_since_last_major_derog    float64\n",
       "application_type                object\n",
       "acc_now_delinq                 float64\n",
       "tot_coll_amt                   float64\n",
       "tot_cur_bal                    float64\n",
       "dtype: object"
      ]
     },
     "execution_count": 280,
     "metadata": {},
     "output_type": "execute_result"
    }
   ],
   "source": [
    "ds.dtypes"
   ]
  },
  {
   "cell_type": "code",
   "execution_count": 281,
   "id": "373dc1ef",
   "metadata": {},
   "outputs": [
    {
     "data": {
      "text/plain": [
       "home_ownership\n",
       "MORTGAGE    204442\n",
       "RENT        154784\n",
       "OWN          36216\n",
       "OTHER           45\n",
       "NONE            42\n",
       "ANY              1\n",
       "Name: count, dtype: int64"
      ]
     },
     "execution_count": 281,
     "metadata": {},
     "output_type": "execute_result"
    }
   ],
   "source": [
    "ds['home_ownership'].value_counts()"
   ]
  },
  {
   "cell_type": "code",
   "execution_count": 282,
   "id": "3c6a9513",
   "metadata": {},
   "outputs": [],
   "source": [
    "ds['home_ownership'] = ds['home_ownership'].map({'NONE': 0, 'OWN': 1, 'RENT' : 2, 'MORTGAGE' : 3, 'OTHER' : 4, 'ANY' : 4})"
   ]
  },
  {
   "cell_type": "code",
   "execution_count": 283,
   "id": "039b9429",
   "metadata": {},
   "outputs": [
    {
     "data": {
      "text/plain": [
       "application_type\n",
       "INDIVIDUAL    395530\n",
       "Name: count, dtype: int64"
      ]
     },
     "execution_count": 283,
     "metadata": {},
     "output_type": "execute_result"
    }
   ],
   "source": [
    "ds['application_type'].value_counts()"
   ]
  },
  {
   "cell_type": "code",
   "execution_count": 284,
   "id": "59adf7b7",
   "metadata": {},
   "outputs": [],
   "source": [
    "kolom_drop2 = ['application_type']\n",
    "ds = ds.drop(kolom_drop2, axis=1)"
   ]
  },
  {
   "cell_type": "code",
   "execution_count": 285,
   "id": "b896e5f4",
   "metadata": {},
   "outputs": [
    {
     "data": {
      "text/plain": [
       "grade\n",
       "B    115062\n",
       "C    110633\n",
       "D     67170\n",
       "A     58092\n",
       "E     30664\n",
       "F     11256\n",
       "G      2653\n",
       "Name: count, dtype: int64"
      ]
     },
     "execution_count": 285,
     "metadata": {},
     "output_type": "execute_result"
    }
   ],
   "source": [
    "ds['grade'].value_counts()"
   ]
  },
  {
   "cell_type": "code",
   "execution_count": 286,
   "id": "2bc187a6",
   "metadata": {},
   "outputs": [],
   "source": [
    "ds['grade'] = ds['grade'].map({'A': 0, 'B': 1, 'C' : 2, 'D' : 3, 'E' : 4, 'F' : 5, 'G' : 6})"
   ]
  },
  {
   "cell_type": "markdown",
   "id": "2a5609f6",
   "metadata": {},
   "source": [
    "'A': 0, 'B': 1, 'C' : 2, 'D' : 3, 'E' : 4, 'F' : 5, 'G' : 6"
   ]
  },
  {
   "cell_type": "code",
   "execution_count": 287,
   "id": "faf927bd",
   "metadata": {},
   "outputs": [
    {
     "data": {
      "text/plain": [
       "sub_grade\n",
       "B4    26027\n",
       "B3    25899\n",
       "B2    22905\n",
       "C2    22876\n",
       "C3    22870\n",
       "C1    22805\n",
       "C4    21929\n",
       "B5    20633\n",
       "C5    20153\n",
       "B1    19598\n",
       "A5    17500\n",
       "D1    17402\n",
       "D2    14676\n",
       "A4    14220\n",
       "D3    12816\n",
       "D4    12285\n",
       "D5     9991\n",
       "A3     9652\n",
       "A1     8362\n",
       "A2     8358\n",
       "E1     7740\n",
       "E2     7485\n",
       "E3     5998\n",
       "E4     5120\n",
       "E5     4321\n",
       "F1     3344\n",
       "F2     2526\n",
       "F3     2348\n",
       "F4     1764\n",
       "F5     1274\n",
       "G1      902\n",
       "G2      671\n",
       "G3      488\n",
       "G4      307\n",
       "G5      285\n",
       "Name: count, dtype: int64"
      ]
     },
     "execution_count": 287,
     "metadata": {},
     "output_type": "execute_result"
    }
   ],
   "source": [
    "ds['sub_grade'].value_counts()"
   ]
  },
  {
   "cell_type": "code",
   "execution_count": 288,
   "id": "efb937e5",
   "metadata": {},
   "outputs": [],
   "source": [
    "ds = ds.drop('sub_grade', axis=1)"
   ]
  },
  {
   "cell_type": "code",
   "execution_count": 289,
   "id": "7f965054",
   "metadata": {},
   "outputs": [
    {
     "data": {
      "text/plain": [
       "verification_status\n",
       "Verified           144322\n",
       "Source Verified    131985\n",
       "Not Verified       119223\n",
       "Name: count, dtype: int64"
      ]
     },
     "execution_count": 289,
     "metadata": {},
     "output_type": "execute_result"
    }
   ],
   "source": [
    "ds['verification_status'].value_counts()"
   ]
  },
  {
   "cell_type": "code",
   "execution_count": 290,
   "id": "ac2c230c",
   "metadata": {},
   "outputs": [],
   "source": [
    "ds['verification_status'] = ds['verification_status'].replace('Source Verified', 'Verified')"
   ]
  },
  {
   "cell_type": "code",
   "execution_count": 291,
   "id": "4350acc9",
   "metadata": {},
   "outputs": [
    {
     "data": {
      "text/plain": [
       "verification_status\n",
       "Verified        276307\n",
       "Not Verified    119223\n",
       "Name: count, dtype: int64"
      ]
     },
     "execution_count": 291,
     "metadata": {},
     "output_type": "execute_result"
    }
   ],
   "source": [
    "ds['verification_status'].value_counts()"
   ]
  },
  {
   "cell_type": "code",
   "execution_count": 292,
   "id": "b89cb343",
   "metadata": {},
   "outputs": [],
   "source": [
    "ds['verification_status'] = ds['verification_status'].replace('Verified', '1')\n",
    "ds['verification_status'] = ds['verification_status'].replace('Not Verified', '0')"
   ]
  },
  {
   "cell_type": "code",
   "execution_count": 293,
   "id": "fd205ba9",
   "metadata": {},
   "outputs": [
    {
     "data": {
      "text/plain": [
       "verification_status\n",
       "1    276307\n",
       "0    119223\n",
       "Name: count, dtype: int64"
      ]
     },
     "execution_count": 293,
     "metadata": {},
     "output_type": "execute_result"
    }
   ],
   "source": [
    "ds['verification_status'].value_counts()"
   ]
  },
  {
   "cell_type": "markdown",
   "id": "e960a064",
   "metadata": {},
   "source": [
    "1 adalah Verified, dan 2 adalah not verified"
   ]
  },
  {
   "cell_type": "code",
   "execution_count": 294,
   "id": "749d50c6",
   "metadata": {},
   "outputs": [
    {
     "data": {
      "text/plain": [
       "term\n",
       " 36 months    283522\n",
       " 60 months    112008\n",
       "Name: count, dtype: int64"
      ]
     },
     "execution_count": 294,
     "metadata": {},
     "output_type": "execute_result"
    }
   ],
   "source": [
    "ds['term'].value_counts()"
   ]
  },
  {
   "cell_type": "code",
   "execution_count": 295,
   "id": "bf00558c",
   "metadata": {},
   "outputs": [],
   "source": [
    "ds['term'] = ds['term'].str.replace(' months', '').astype(int)"
   ]
  },
  {
   "cell_type": "code",
   "execution_count": 296,
   "id": "e3429c5c",
   "metadata": {},
   "outputs": [
    {
     "data": {
      "text/plain": [
       "term\n",
       "36    283522\n",
       "60    112008\n",
       "Name: count, dtype: int64"
      ]
     },
     "execution_count": 296,
     "metadata": {},
     "output_type": "execute_result"
    }
   ],
   "source": [
    "ds['term'].value_counts()"
   ]
  },
  {
   "cell_type": "code",
   "execution_count": 297,
   "id": "59df1921",
   "metadata": {},
   "outputs": [
    {
     "data": {
      "text/plain": [
       "issue_d\n",
       "Oct-14    38733\n",
       "Jul-14    29274\n",
       "Nov-14    25028\n",
       "May-14    19080\n",
       "Apr-14    19048\n",
       "Aug-14    18791\n",
       "Jun-14    17164\n",
       "Mar-14    16493\n",
       "Jan-14    15615\n",
       "Feb-14    15253\n",
       "Dec-13    15003\n",
       "Nov-13    14666\n",
       "Oct-13    14093\n",
       "Sep-13    12962\n",
       "Aug-13    12653\n",
       "Jul-13    11895\n",
       "Jun-13    10891\n",
       "Sep-14    10589\n",
       "May-13    10338\n",
       "Dec-14    10294\n",
       "Apr-13     9405\n",
       "Mar-13     8262\n",
       "Feb-13     7554\n",
       "Jan-13     6865\n",
       "Nov-12     6371\n",
       "Oct-12     6250\n",
       "Dec-12     6054\n",
       "Sep-12     5999\n",
       "Aug-12      907\n",
       "Name: count, dtype: int64"
      ]
     },
     "execution_count": 297,
     "metadata": {},
     "output_type": "execute_result"
    }
   ],
   "source": [
    "ds['issue_d'].value_counts()"
   ]
  },
  {
   "cell_type": "code",
   "execution_count": 298,
   "id": "920c2f76",
   "metadata": {},
   "outputs": [],
   "source": [
    "ds = ds.drop('issue_d', axis=1)"
   ]
  },
  {
   "cell_type": "code",
   "execution_count": 299,
   "id": "4936b82a",
   "metadata": {},
   "outputs": [
    {
     "data": {
      "text/plain": [
       "loan_status\n",
       "Current               220534\n",
       "Fully Paid            130966\n",
       "Charged Off            32173\n",
       "Late (31-120 days)      6775\n",
       "In Grace Period         3078\n",
       "Late (16-30 days)       1190\n",
       "Default                  814\n",
       "Name: count, dtype: int64"
      ]
     },
     "execution_count": 299,
     "metadata": {},
     "output_type": "execute_result"
    }
   ],
   "source": [
    "ds['loan_status'].value_counts()"
   ]
  },
  {
   "cell_type": "code",
   "execution_count": 300,
   "id": "055e98ff",
   "metadata": {},
   "outputs": [],
   "source": [
    "ds['loan_status'] = ds['loan_status'].map({'Current': 0, 'Fully Paid': 0, 'Charged Off' : 1, 'Late (31-120 days)' : 1, \n",
    "                                           'In Grace Period' : 1, 'Late (16-30 days)' : 1, 'Default' : 1})\n"
   ]
  },
  {
   "cell_type": "markdown",
   "id": "fd109f8d",
   "metadata": {},
   "source": [
    "Current = 0\n",
    "Fully Paid = 1\n",
    "Charged Off = 2\n",
    "Late (31-120 days) = 3\n",
    "In Grace Period = 4\n",
    "Late (16-30 days) = 5\n",
    "Default = 6"
   ]
  },
  {
   "cell_type": "code",
   "execution_count": 301,
   "id": "ca88190d",
   "metadata": {},
   "outputs": [
    {
     "data": {
      "text/plain": [
       "pymnt_plan\n",
       "n    395525\n",
       "y         5\n",
       "Name: count, dtype: int64"
      ]
     },
     "execution_count": 301,
     "metadata": {},
     "output_type": "execute_result"
    }
   ],
   "source": [
    "ds['pymnt_plan'].value_counts()"
   ]
  },
  {
   "cell_type": "code",
   "execution_count": 302,
   "id": "b937a1e2",
   "metadata": {},
   "outputs": [],
   "source": [
    "ds['pymnt_plan'] = ds['pymnt_plan'].map({'n': 0, 'y': 1})"
   ]
  },
  {
   "cell_type": "markdown",
   "id": "5ed09a34",
   "metadata": {},
   "source": [
    "n = 0, y = 1"
   ]
  },
  {
   "cell_type": "code",
   "execution_count": 303,
   "id": "86637152",
   "metadata": {},
   "outputs": [],
   "source": [
    "categorical = [cols for cols in df.columns if df[cols].dtypes=='object']\n",
    "numerical = [cols for cols in df.columns if df[cols].dtypes=='float64']"
   ]
  },
  {
   "cell_type": "code",
   "execution_count": 304,
   "id": "65e2e91d",
   "metadata": {},
   "outputs": [
    {
     "data": {
      "text/plain": [
       "purpose\n",
       "debt_consolidation    238930\n",
       "credit_card            93450\n",
       "home_improvement       21615\n",
       "other                  17447\n",
       "major_purchase          6674\n",
       "small_business          4074\n",
       "medical                 3503\n",
       "car                     3190\n",
       "moving                  2125\n",
       "vacation                1884\n",
       "house                   1562\n",
       "wedding                  868\n",
       "renewable_energy         208\n",
       "Name: count, dtype: int64"
      ]
     },
     "execution_count": 304,
     "metadata": {},
     "output_type": "execute_result"
    }
   ],
   "source": [
    "ds['purpose'].value_counts()"
   ]
  },
  {
   "cell_type": "code",
   "execution_count": 305,
   "id": "8f270961",
   "metadata": {},
   "outputs": [],
   "source": [
    "ds = ds.drop('purpose', axis=1)"
   ]
  },
  {
   "cell_type": "code",
   "execution_count": 306,
   "id": "ab5ed307",
   "metadata": {},
   "outputs": [],
   "source": [
    "ds = ds.drop('zip_code', axis=1)"
   ]
  },
  {
   "cell_type": "code",
   "execution_count": 307,
   "id": "2646d5dd",
   "metadata": {},
   "outputs": [],
   "source": [
    "ds = ds.drop('earliest_cr_line', axis=1)"
   ]
  },
  {
   "cell_type": "code",
   "execution_count": 308,
   "id": "4cd8fc44",
   "metadata": {},
   "outputs": [],
   "source": [
    "ds = ds.drop('addr_state', axis=1)"
   ]
  },
  {
   "cell_type": "code",
   "execution_count": 309,
   "id": "633a0e5b",
   "metadata": {},
   "outputs": [
    {
     "data": {
      "text/plain": [
       "initial_list_status\n",
       "f    232434\n",
       "w    163096\n",
       "Name: count, dtype: int64"
      ]
     },
     "execution_count": 309,
     "metadata": {},
     "output_type": "execute_result"
    }
   ],
   "source": [
    "ds['initial_list_status'].value_counts()"
   ]
  },
  {
   "cell_type": "code",
   "execution_count": 310,
   "id": "1f78f728",
   "metadata": {},
   "outputs": [],
   "source": [
    "ds['initial_list_status'] = ds['initial_list_status'].map({'f': 0, 'w': 1})"
   ]
  },
  {
   "cell_type": "markdown",
   "id": "8861d70e",
   "metadata": {},
   "source": [
    "whole loan = 1, fractional loan = 0"
   ]
  },
  {
   "cell_type": "code",
   "execution_count": 311,
   "id": "942110f4",
   "metadata": {},
   "outputs": [],
   "source": [
    "ds = ds.drop('last_pymnt_d', axis=1)"
   ]
  },
  {
   "cell_type": "code",
   "execution_count": 312,
   "id": "0f95d560",
   "metadata": {},
   "outputs": [],
   "source": [
    "ds = ds.drop('verification_status', axis=1)"
   ]
  },
  {
   "cell_type": "code",
   "execution_count": 313,
   "id": "27c91f0c",
   "metadata": {},
   "outputs": [],
   "source": [
    "ds = ds.drop('term', axis=1)"
   ]
  },
  {
   "cell_type": "code",
   "execution_count": 314,
   "id": "08a67d00",
   "metadata": {},
   "outputs": [],
   "source": [
    "ds = ds.drop('pymnt_plan', axis=1)"
   ]
  },
  {
   "cell_type": "code",
   "execution_count": 315,
   "id": "ef2a5f1f",
   "metadata": {},
   "outputs": [],
   "source": [
    "ds = ds.drop('initial_list_status', axis=1)"
   ]
  },
  {
   "cell_type": "code",
   "execution_count": 316,
   "id": "16d69156",
   "metadata": {},
   "outputs": [],
   "source": [
    "ds = ds.drop('total_pymnt', axis=1)"
   ]
  },
  {
   "cell_type": "code",
   "execution_count": 317,
   "id": "a315b351",
   "metadata": {},
   "outputs": [],
   "source": [
    "ds = ds.drop('out_prncp', axis=1)"
   ]
  },
  {
   "cell_type": "code",
   "execution_count": 318,
   "id": "0c1a2310",
   "metadata": {},
   "outputs": [],
   "source": [
    "ds = ds.drop('total_rec_int', axis=1)"
   ]
  },
  {
   "cell_type": "code",
   "execution_count": 319,
   "id": "04f24d85",
   "metadata": {},
   "outputs": [],
   "source": [
    "ds = ds.drop('collection_recovery_fee', axis=1)"
   ]
  },
  {
   "cell_type": "code",
   "execution_count": 320,
   "id": "ef6744ac",
   "metadata": {},
   "outputs": [],
   "source": [
    "ds = ds.drop('total_rec_prncp', axis=1)"
   ]
  },
  {
   "cell_type": "code",
   "execution_count": 321,
   "id": "bb913868",
   "metadata": {},
   "outputs": [],
   "source": [
    "ds = ds.drop('out_prncp_inv', axis=1)"
   ]
  },
  {
   "cell_type": "code",
   "execution_count": 322,
   "id": "a5a97571",
   "metadata": {
    "scrolled": true
   },
   "outputs": [
    {
     "data": {
      "text/plain": [
       "installment                    float64\n",
       "grade                            int64\n",
       "home_ownership                   int64\n",
       "annual_inc                     float64\n",
       "loan_status                      int64\n",
       "dti                            float64\n",
       "delinq_2yrs                    float64\n",
       "inq_last_6mths                 float64\n",
       "mths_since_last_delinq         float64\n",
       "mths_since_last_record         float64\n",
       "open_acc                       float64\n",
       "pub_rec                        float64\n",
       "revol_bal                        int64\n",
       "revol_util                     float64\n",
       "total_acc                      float64\n",
       "total_pymnt_inv                float64\n",
       "total_rec_late_fee             float64\n",
       "recoveries                     float64\n",
       "last_pymnt_amnt                float64\n",
       "collections_12_mths_ex_med     float64\n",
       "mths_since_last_major_derog    float64\n",
       "acc_now_delinq                 float64\n",
       "tot_coll_amt                   float64\n",
       "tot_cur_bal                    float64\n",
       "dtype: object"
      ]
     },
     "execution_count": 322,
     "metadata": {},
     "output_type": "execute_result"
    }
   ],
   "source": [
    "ds.dtypes"
   ]
  },
  {
   "cell_type": "code",
   "execution_count": 323,
   "id": "a0e02be2",
   "metadata": {},
   "outputs": [
    {
     "data": {
      "text/plain": [
       "installment                         0\n",
       "grade                               0\n",
       "home_ownership                      0\n",
       "annual_inc                          0\n",
       "loan_status                         0\n",
       "dti                                 0\n",
       "delinq_2yrs                         0\n",
       "inq_last_6mths                      0\n",
       "mths_since_last_delinq         204895\n",
       "mths_since_last_record         337427\n",
       "open_acc                            0\n",
       "pub_rec                             0\n",
       "revol_bal                           0\n",
       "revol_util                          0\n",
       "total_acc                           0\n",
       "total_pymnt_inv                     0\n",
       "total_rec_late_fee                  0\n",
       "recoveries                          0\n",
       "last_pymnt_amnt                     0\n",
       "collections_12_mths_ex_med          0\n",
       "mths_since_last_major_derog    296694\n",
       "acc_now_delinq                      0\n",
       "tot_coll_amt                        0\n",
       "tot_cur_bal                         0\n",
       "dtype: int64"
      ]
     },
     "execution_count": 323,
     "metadata": {},
     "output_type": "execute_result"
    }
   ],
   "source": [
    "ds.isnull().sum()"
   ]
  },
  {
   "cell_type": "code",
   "execution_count": 324,
   "id": "4720ad60",
   "metadata": {},
   "outputs": [],
   "source": [
    "ds = ds.drop('mths_since_last_delinq', axis=1)"
   ]
  },
  {
   "cell_type": "code",
   "execution_count": 325,
   "id": "827c97b5",
   "metadata": {},
   "outputs": [],
   "source": [
    "ds = ds.drop('tot_coll_amt', axis=1)"
   ]
  },
  {
   "cell_type": "code",
   "execution_count": 326,
   "id": "ba525f34",
   "metadata": {},
   "outputs": [],
   "source": [
    "ds = ds.drop('acc_now_delinq', axis=1)"
   ]
  },
  {
   "cell_type": "code",
   "execution_count": 327,
   "id": "f147ea09",
   "metadata": {},
   "outputs": [],
   "source": [
    "ds = ds.drop('collections_12_mths_ex_med', axis=1)"
   ]
  },
  {
   "cell_type": "code",
   "execution_count": 328,
   "id": "930158e9",
   "metadata": {},
   "outputs": [],
   "source": [
    "ds = ds.drop('total_acc', axis=1)"
   ]
  },
  {
   "cell_type": "code",
   "execution_count": 329,
   "id": "40e414ec",
   "metadata": {},
   "outputs": [],
   "source": [
    "ds = ds.drop('mths_since_last_record', axis=1)\n",
    "ds = ds.drop('mths_since_last_major_derog', axis=1)"
   ]
  },
  {
   "cell_type": "code",
   "execution_count": 330,
   "id": "c74aabba",
   "metadata": {
    "scrolled": true
   },
   "outputs": [
    {
     "data": {
      "text/html": [
       "<div>\n",
       "<style scoped>\n",
       "    .dataframe tbody tr th:only-of-type {\n",
       "        vertical-align: middle;\n",
       "    }\n",
       "\n",
       "    .dataframe tbody tr th {\n",
       "        vertical-align: top;\n",
       "    }\n",
       "\n",
       "    .dataframe thead th {\n",
       "        text-align: right;\n",
       "    }\n",
       "</style>\n",
       "<table border=\"1\" class=\"dataframe\">\n",
       "  <thead>\n",
       "    <tr style=\"text-align: right;\">\n",
       "      <th></th>\n",
       "      <th>installment</th>\n",
       "      <th>grade</th>\n",
       "      <th>home_ownership</th>\n",
       "      <th>annual_inc</th>\n",
       "      <th>loan_status</th>\n",
       "      <th>dti</th>\n",
       "      <th>delinq_2yrs</th>\n",
       "      <th>inq_last_6mths</th>\n",
       "      <th>open_acc</th>\n",
       "      <th>pub_rec</th>\n",
       "      <th>revol_bal</th>\n",
       "      <th>revol_util</th>\n",
       "      <th>total_pymnt_inv</th>\n",
       "      <th>total_rec_late_fee</th>\n",
       "      <th>recoveries</th>\n",
       "      <th>last_pymnt_amnt</th>\n",
       "      <th>tot_cur_bal</th>\n",
       "    </tr>\n",
       "  </thead>\n",
       "  <tbody>\n",
       "    <tr>\n",
       "      <th>0</th>\n",
       "      <td>1.806000</td>\n",
       "      <td>-0.653788</td>\n",
       "      <td>-2.177620</td>\n",
       "      <td>-0.348813</td>\n",
       "      <td>-0.353925</td>\n",
       "      <td>0.652410</td>\n",
       "      <td>-0.369327</td>\n",
       "      <td>-0.747974</td>\n",
       "      <td>0.508166</td>\n",
       "      <td>-0.332149</td>\n",
       "      <td>0.958627</td>\n",
       "      <td>0.187837</td>\n",
       "      <td>1.235213</td>\n",
       "      <td>-0.111664</td>\n",
       "      <td>-0.153314</td>\n",
       "      <td>-0.401927</td>\n",
       "      <td>-0.157543</td>\n",
       "    </tr>\n",
       "    <tr>\n",
       "      <th>1</th>\n",
       "      <td>-0.460171</td>\n",
       "      <td>0.113181</td>\n",
       "      <td>-0.649828</td>\n",
       "      <td>-0.879812</td>\n",
       "      <td>-0.353925</td>\n",
       "      <td>0.938073</td>\n",
       "      <td>-0.369327</td>\n",
       "      <td>-0.747974</td>\n",
       "      <td>0.110146</td>\n",
       "      <td>-0.332149</td>\n",
       "      <td>-0.411089</td>\n",
       "      <td>-0.178118</td>\n",
       "      <td>-0.413412</td>\n",
       "      <td>-0.111664</td>\n",
       "      <td>-0.153314</td>\n",
       "      <td>-0.499137</td>\n",
       "      <td>-0.819831</td>\n",
       "    </tr>\n",
       "    <tr>\n",
       "      <th>2</th>\n",
       "      <td>-0.315294</td>\n",
       "      <td>-1.420756</td>\n",
       "      <td>0.877964</td>\n",
       "      <td>0.566704</td>\n",
       "      <td>-0.353925</td>\n",
       "      <td>-0.467389</td>\n",
       "      <td>-0.369327</td>\n",
       "      <td>0.217156</td>\n",
       "      <td>0.110146</td>\n",
       "      <td>-0.332149</td>\n",
       "      <td>-0.162618</td>\n",
       "      <td>-1.537378</td>\n",
       "      <td>-0.307953</td>\n",
       "      <td>-0.111664</td>\n",
       "      <td>-0.153314</td>\n",
       "      <td>-0.492923</td>\n",
       "      <td>0.847367</td>\n",
       "    </tr>\n",
       "    <tr>\n",
       "      <th>3</th>\n",
       "      <td>-0.155482</td>\n",
       "      <td>-0.653788</td>\n",
       "      <td>-0.649828</td>\n",
       "      <td>-0.623468</td>\n",
       "      <td>-0.353925</td>\n",
       "      <td>-0.100471</td>\n",
       "      <td>-0.369327</td>\n",
       "      <td>-0.747974</td>\n",
       "      <td>-0.884905</td>\n",
       "      <td>3.343954</td>\n",
       "      <td>-0.525506</td>\n",
       "      <td>0.518939</td>\n",
       "      <td>0.253805</td>\n",
       "      <td>-0.111664</td>\n",
       "      <td>-0.153314</td>\n",
       "      <td>-0.536797</td>\n",
       "      <td>-0.823238</td>\n",
       "    </tr>\n",
       "    <tr>\n",
       "      <th>4</th>\n",
       "      <td>0.127215</td>\n",
       "      <td>-1.420756</td>\n",
       "      <td>0.877964</td>\n",
       "      <td>-0.202330</td>\n",
       "      <td>-0.353925</td>\n",
       "      <td>-0.155064</td>\n",
       "      <td>-0.369327</td>\n",
       "      <td>-0.747974</td>\n",
       "      <td>-0.685895</td>\n",
       "      <td>-0.332149</td>\n",
       "      <td>-0.245601</td>\n",
       "      <td>0.754195</td>\n",
       "      <td>0.013956</td>\n",
       "      <td>-0.111664</td>\n",
       "      <td>-0.153314</td>\n",
       "      <td>-0.473941</td>\n",
       "      <td>0.879235</td>\n",
       "    </tr>\n",
       "    <tr>\n",
       "      <th>...</th>\n",
       "      <td>...</td>\n",
       "      <td>...</td>\n",
       "      <td>...</td>\n",
       "      <td>...</td>\n",
       "      <td>...</td>\n",
       "      <td>...</td>\n",
       "      <td>...</td>\n",
       "      <td>...</td>\n",
       "      <td>...</td>\n",
       "      <td>...</td>\n",
       "      <td>...</td>\n",
       "      <td>...</td>\n",
       "      <td>...</td>\n",
       "      <td>...</td>\n",
       "      <td>...</td>\n",
       "      <td>...</td>\n",
       "      <td>...</td>\n",
       "    </tr>\n",
       "    <tr>\n",
       "      <th>395525</th>\n",
       "      <td>-0.051922</td>\n",
       "      <td>0.113181</td>\n",
       "      <td>0.877964</td>\n",
       "      <td>0.658255</td>\n",
       "      <td>-0.353925</td>\n",
       "      <td>0.268987</td>\n",
       "      <td>-0.369327</td>\n",
       "      <td>1.182286</td>\n",
       "      <td>1.304207</td>\n",
       "      <td>-0.332149</td>\n",
       "      <td>0.317028</td>\n",
       "      <td>0.902320</td>\n",
       "      <td>-0.116360</td>\n",
       "      <td>-0.111664</td>\n",
       "      <td>-0.153314</td>\n",
       "      <td>-0.481625</td>\n",
       "      <td>1.027237</td>\n",
       "    </tr>\n",
       "    <tr>\n",
       "      <th>395526</th>\n",
       "      <td>0.562954</td>\n",
       "      <td>0.880149</td>\n",
       "      <td>0.877964</td>\n",
       "      <td>0.072325</td>\n",
       "      <td>2.825455</td>\n",
       "      <td>0.091241</td>\n",
       "      <td>-0.369327</td>\n",
       "      <td>4.077677</td>\n",
       "      <td>1.304207</td>\n",
       "      <td>1.505903</td>\n",
       "      <td>0.079593</td>\n",
       "      <td>-0.461297</td>\n",
       "      <td>-0.825924</td>\n",
       "      <td>-0.111664</td>\n",
       "      <td>-0.153314</td>\n",
       "      <td>-0.554691</td>\n",
       "      <td>0.546075</td>\n",
       "    </tr>\n",
       "    <tr>\n",
       "      <th>395527</th>\n",
       "      <td>0.283293</td>\n",
       "      <td>0.880149</td>\n",
       "      <td>0.877964</td>\n",
       "      <td>-0.513606</td>\n",
       "      <td>-0.353925</td>\n",
       "      <td>1.005362</td>\n",
       "      <td>-0.369327</td>\n",
       "      <td>1.182286</td>\n",
       "      <td>1.304207</td>\n",
       "      <td>-0.332149</td>\n",
       "      <td>-0.472191</td>\n",
       "      <td>-0.252180</td>\n",
       "      <td>0.127475</td>\n",
       "      <td>-0.111664</td>\n",
       "      <td>-0.153314</td>\n",
       "      <td>-0.467245</td>\n",
       "      <td>-0.428716</td>\n",
       "    </tr>\n",
       "    <tr>\n",
       "      <th>395528</th>\n",
       "      <td>-1.570239</td>\n",
       "      <td>-1.420756</td>\n",
       "      <td>-2.177620</td>\n",
       "      <td>0.163876</td>\n",
       "      <td>-0.353925</td>\n",
       "      <td>-1.566874</td>\n",
       "      <td>3.227901</td>\n",
       "      <td>0.217156</td>\n",
       "      <td>1.901238</td>\n",
       "      <td>-0.332149</td>\n",
       "      <td>-0.246891</td>\n",
       "      <td>-1.541735</td>\n",
       "      <td>-1.143224</td>\n",
       "      <td>-0.111664</td>\n",
       "      <td>-0.153314</td>\n",
       "      <td>-0.293647</td>\n",
       "      <td>2.977794</td>\n",
       "    </tr>\n",
       "    <tr>\n",
       "      <th>395529</th>\n",
       "      <td>-0.318864</td>\n",
       "      <td>0.880149</td>\n",
       "      <td>0.877964</td>\n",
       "      <td>-0.513606</td>\n",
       "      <td>-0.353925</td>\n",
       "      <td>0.640983</td>\n",
       "      <td>0.829749</td>\n",
       "      <td>-0.747974</td>\n",
       "      <td>-1.083916</td>\n",
       "      <td>-0.332149</td>\n",
       "      <td>-0.250665</td>\n",
       "      <td>0.606071</td>\n",
       "      <td>-0.313330</td>\n",
       "      <td>-0.111664</td>\n",
       "      <td>-0.153314</td>\n",
       "      <td>-0.493076</td>\n",
       "      <td>-0.534730</td>\n",
       "    </tr>\n",
       "  </tbody>\n",
       "</table>\n",
       "<p>395530 rows × 17 columns</p>\n",
       "</div>"
      ],
      "text/plain": [
       "        installment     grade  home_ownership  annual_inc  loan_status  \\\n",
       "0          1.806000 -0.653788       -2.177620   -0.348813    -0.353925   \n",
       "1         -0.460171  0.113181       -0.649828   -0.879812    -0.353925   \n",
       "2         -0.315294 -1.420756        0.877964    0.566704    -0.353925   \n",
       "3         -0.155482 -0.653788       -0.649828   -0.623468    -0.353925   \n",
       "4          0.127215 -1.420756        0.877964   -0.202330    -0.353925   \n",
       "...             ...       ...             ...         ...          ...   \n",
       "395525    -0.051922  0.113181        0.877964    0.658255    -0.353925   \n",
       "395526     0.562954  0.880149        0.877964    0.072325     2.825455   \n",
       "395527     0.283293  0.880149        0.877964   -0.513606    -0.353925   \n",
       "395528    -1.570239 -1.420756       -2.177620    0.163876    -0.353925   \n",
       "395529    -0.318864  0.880149        0.877964   -0.513606    -0.353925   \n",
       "\n",
       "             dti  delinq_2yrs  inq_last_6mths  open_acc   pub_rec  revol_bal  \\\n",
       "0       0.652410    -0.369327       -0.747974  0.508166 -0.332149   0.958627   \n",
       "1       0.938073    -0.369327       -0.747974  0.110146 -0.332149  -0.411089   \n",
       "2      -0.467389    -0.369327        0.217156  0.110146 -0.332149  -0.162618   \n",
       "3      -0.100471    -0.369327       -0.747974 -0.884905  3.343954  -0.525506   \n",
       "4      -0.155064    -0.369327       -0.747974 -0.685895 -0.332149  -0.245601   \n",
       "...          ...          ...             ...       ...       ...        ...   \n",
       "395525  0.268987    -0.369327        1.182286  1.304207 -0.332149   0.317028   \n",
       "395526  0.091241    -0.369327        4.077677  1.304207  1.505903   0.079593   \n",
       "395527  1.005362    -0.369327        1.182286  1.304207 -0.332149  -0.472191   \n",
       "395528 -1.566874     3.227901        0.217156  1.901238 -0.332149  -0.246891   \n",
       "395529  0.640983     0.829749       -0.747974 -1.083916 -0.332149  -0.250665   \n",
       "\n",
       "        revol_util  total_pymnt_inv  total_rec_late_fee  recoveries  \\\n",
       "0         0.187837         1.235213           -0.111664   -0.153314   \n",
       "1        -0.178118        -0.413412           -0.111664   -0.153314   \n",
       "2        -1.537378        -0.307953           -0.111664   -0.153314   \n",
       "3         0.518939         0.253805           -0.111664   -0.153314   \n",
       "4         0.754195         0.013956           -0.111664   -0.153314   \n",
       "...            ...              ...                 ...         ...   \n",
       "395525    0.902320        -0.116360           -0.111664   -0.153314   \n",
       "395526   -0.461297        -0.825924           -0.111664   -0.153314   \n",
       "395527   -0.252180         0.127475           -0.111664   -0.153314   \n",
       "395528   -1.541735        -1.143224           -0.111664   -0.153314   \n",
       "395529    0.606071        -0.313330           -0.111664   -0.153314   \n",
       "\n",
       "        last_pymnt_amnt  tot_cur_bal  \n",
       "0             -0.401927    -0.157543  \n",
       "1             -0.499137    -0.819831  \n",
       "2             -0.492923     0.847367  \n",
       "3             -0.536797    -0.823238  \n",
       "4             -0.473941     0.879235  \n",
       "...                 ...          ...  \n",
       "395525        -0.481625     1.027237  \n",
       "395526        -0.554691     0.546075  \n",
       "395527        -0.467245    -0.428716  \n",
       "395528        -0.293647     2.977794  \n",
       "395529        -0.493076    -0.534730  \n",
       "\n",
       "[395530 rows x 17 columns]"
      ]
     },
     "metadata": {},
     "output_type": "display_data"
    }
   ],
   "source": [
    "from sklearn.preprocessing import StandardScaler\n",
    "\n",
    "scaler = StandardScaler()\n",
    "scaler.fit(ds)\n",
    "scaled_features = scaler.transform(ds)\n",
    "\n",
    "data_scaled = pd.DataFrame(scaled_features,columns = ds.columns)\n",
    "display(data_scaled)"
   ]
  },
  {
   "cell_type": "markdown",
   "id": "1572ed4a",
   "metadata": {},
   "source": [
    "# 3. Visualisasi Data"
   ]
  },
  {
   "cell_type": "code",
   "execution_count": 331,
   "id": "d5ba0a1d",
   "metadata": {},
   "outputs": [
    {
     "data": {
      "image/png": "[encoded data removed]",
      "text/plain": [
       "<Figure size 800x600 with 1 Axes>"
      ]
     },
     "metadata": {},
     "output_type": "display_data"
    }
   ],
   "source": [
    "plt.figure(figsize=(8, 6))\n",
    "plt.violinplot(ds['loan_status'])\n",
    "plt.ylabel('Skor Kredit atau Penilaian Risiko')\n",
    "plt.title('Violin Plot Skor Kredit atau Penilaian Risiko')\n",
    "plt.grid(True)\n",
    "plt.show()"
   ]
  },
  {
   "cell_type": "code",
   "execution_count": 332,
   "id": "f2f0117c",
   "metadata": {},
   "outputs": [
    {
     "data": {
      "text/plain": [
       "<Axes: >"
      ]
     },
     "execution_count": 332,
     "metadata": {},
     "output_type": "execute_result"
    },
    {
     "data": {
      "image/png": "[encoded data removed]",
      "text/plain": [
       "<Figure size 3000x2000 with 2 Axes>"
      ]
     },
     "metadata": {},
     "output_type": "display_data"
    }
   ],
   "source": [
    "import matplotlib.pyplot as plt\n",
    "import seaborn as sns\n",
    "\n",
    "plt.figure(figsize=(30,20))\n",
    "sns.heatmap(ds.corr(), annot=True, cmap='Accent')"
   ]
  },
  {
   "cell_type": "code",
   "execution_count": 333,
   "id": "3bf407ff",
   "metadata": {},
   "outputs": [],
   "source": [
    "ds['grade'] = ds['grade'].map({0: 'A', 1: 'B', 2 : 'C', 3 : 'D', 4 : 'E', 5 : 'F', 6 : 'G'})"
   ]
  },
  {
   "cell_type": "code",
   "execution_count": 334,
   "id": "a0b86e0f",
   "metadata": {},
   "outputs": [
    {
     "data": {
      "image/png": "[encoded data removed]",
      "text/plain": [
       "<Figure size 1000x600 with 1 Axes>"
      ]
     },
     "metadata": {},
     "output_type": "display_data"
    }
   ],
   "source": [
    "# Menyeleksi data dengan skor kredit tertentu\n",
    "grades_unique = sorted(ds['grade'].unique())\n",
    "\n",
    "pendapatan_skor_0 = ds['grade'][ds['loan_status'].round() == 0]\n",
    "pendapatan_skor_1 = ds['grade'][ds['loan_status'].round() == 1]\n",
    "\n",
    "# Menentukan nilai unik dari 'grade' dan mengurutkannya secara alfabetis\n",
    "\n",
    "# Menentukan posisi masing-masing grade pada sumbu x\n",
    "positions = np.arange(len(grades_unique))\n",
    "\n",
    "# Menyusun histogram dengan posisi bins yang sudah ditentukan\n",
    "plt.figure(figsize=(10, 6))\n",
    "plt.hist(pendapatan_skor_0, bins=20, edgecolor='black', color='g', align='left', label='Aman')\n",
    "plt.hist(pendapatan_skor_1, bins=20, edgecolor='black', color='r', align='mid', label='Berisiko')\n",
    "\n",
    "plt.xticks(positions, grades_unique)  # Memberikan label pada sumbu x sesuai dengan peringkat peminjam\n",
    "plt.yscale('log')\n",
    "plt.xlabel('Grade')\n",
    "plt.ylabel('Jumlah Peminjam')\n",
    "plt.title('Distribusi peringkat peminjam pada Skor Kredit')\n",
    "plt.legend(loc='upper right')\n",
    "plt.grid(True)\n",
    "plt.show()"
   ]
  },
  {
   "cell_type": "code",
   "execution_count": 335,
   "id": "638e76d8",
   "metadata": {},
   "outputs": [],
   "source": [
    "ds['grade'] = ds['grade'].map({'A': 0, 'B': 1, 'C' : 2, 'D' : 3, 'E' : 4, 'F' : 5, 'G' : 6})"
   ]
  },
  {
   "cell_type": "markdown",
   "id": "4d8fe208",
   "metadata": {},
   "source": [
    "# 4. Pembuatan Model "
   ]
  },
  {
   "cell_type": "markdown",
   "id": "169c5c21",
   "metadata": {},
   "source": [
    "Pembuatan model ML pada kesempatan ini menggunakan Random Forest Classifier"
   ]
  },
  {
   "cell_type": "code",
   "execution_count": 337,
   "id": "7500902a",
   "metadata": {},
   "outputs": [],
   "source": [
    "y = ds['loan_status']\n",
    "X = ds.drop(columns=['loan_status'])\n",
    "\n",
    "# Pisahkan data menjadi data latih dan data uji\n",
    "X_train, X_test, y_train, y_test = train_test_split(X, y, test_size=0.2, random_state=42)\n",
    "\n",
    "model_rf = RandomForestClassifier(n_estimators=200)\n",
    "model_rf.fit(X_train, y_train)\n",
    "y_pred_rf = model_rf.predict(X_test)"
   ]
  },
  {
   "cell_type": "code",
   "execution_count": 338,
   "id": "9aac29a4",
   "metadata": {},
   "outputs": [
    {
     "data": {
      "image/png": "[encoded data removed]",
      "text/plain": [
       "<Figure size 800x800 with 1 Axes>"
      ]
     },
     "metadata": {},
     "output_type": "display_data"
    },
    {
     "name": "stdout",
     "output_type": "stream",
     "text": [
      "Classification Report:\n",
      "               precision    recall  f1-score   support\n",
      "\n",
      "           0       0.95      1.00      0.97     70442\n",
      "           1       0.96      0.60      0.74      8664\n",
      "\n",
      "    accuracy                           0.95     79106\n",
      "   macro avg       0.96      0.80      0.86     79106\n",
      "weighted avg       0.95      0.95      0.95     79106\n",
      "\n",
      "Accuracy Score: 0.9540237150152959\n"
     ]
    }
   ],
   "source": [
    "cm = confusion_matrix(y_test, y_pred_rf)\n",
    "\n",
    "fig, ax = plt.subplots(figsize=(8,8))\n",
    "ax.imshow(cm)\n",
    "ax.grid(False)\n",
    "ax.set_xlabel('Predicted Outputs', color='black')\n",
    "ax.set_ylabel('Actual Outputs', color='black')\n",
    "ax.xaxis.set(ticks=range(2))\n",
    "ax.yaxis.set(ticks=range(2))\n",
    "ax.set_ylim(1.5, -0.5)\n",
    "for i in range(2):\n",
    "    for j in range(2):\n",
    "        ax.text(j, i, cm[i,j], ha='center', va='center', color='black')\n",
    "plt.show()\n",
    "\n",
    "print(\"Classification Report:\\n\", classification_report(y_test, y_pred_rf))\n",
    "print(f'Accuracy Score: {accuracy_score(y_test, y_pred_rf)}')"
   ]
  },
  {
   "cell_type": "code",
   "execution_count": 348,
   "id": "791b6e3d",
   "metadata": {},
   "outputs": [
    {
     "data": {
      "text/html": [
       "<div>\n",
       "<style scoped>\n",
       "    .dataframe tbody tr th:only-of-type {\n",
       "        vertical-align: middle;\n",
       "    }\n",
       "\n",
       "    .dataframe tbody tr th {\n",
       "        vertical-align: top;\n",
       "    }\n",
       "\n",
       "    .dataframe thead th {\n",
       "        text-align: right;\n",
       "    }\n",
       "</style>\n",
       "<table border=\"1\" class=\"dataframe\">\n",
       "  <thead>\n",
       "    <tr style=\"text-align: right;\">\n",
       "      <th></th>\n",
       "      <th>installment</th>\n",
       "      <th>grade</th>\n",
       "      <th>home_ownership</th>\n",
       "      <th>annual_inc</th>\n",
       "      <th>dti</th>\n",
       "      <th>delinq_2yrs</th>\n",
       "      <th>inq_last_6mths</th>\n",
       "      <th>open_acc</th>\n",
       "      <th>pub_rec</th>\n",
       "      <th>revol_bal</th>\n",
       "      <th>revol_util</th>\n",
       "      <th>total_pymnt_inv</th>\n",
       "      <th>total_rec_late_fee</th>\n",
       "      <th>recoveries</th>\n",
       "      <th>last_pymnt_amnt</th>\n",
       "      <th>tot_cur_bal</th>\n",
       "    </tr>\n",
       "  </thead>\n",
       "  <tbody>\n",
       "    <tr>\n",
       "      <th>0</th>\n",
       "      <td>1.806000</td>\n",
       "      <td>-0.653788</td>\n",
       "      <td>-2.177620</td>\n",
       "      <td>-0.348813</td>\n",
       "      <td>0.652410</td>\n",
       "      <td>-0.369327</td>\n",
       "      <td>-0.747974</td>\n",
       "      <td>0.508166</td>\n",
       "      <td>-0.332149</td>\n",
       "      <td>0.958627</td>\n",
       "      <td>0.187837</td>\n",
       "      <td>1.235213</td>\n",
       "      <td>-0.111664</td>\n",
       "      <td>-0.153314</td>\n",
       "      <td>-0.401927</td>\n",
       "      <td>-0.157543</td>\n",
       "    </tr>\n",
       "    <tr>\n",
       "      <th>1</th>\n",
       "      <td>-0.460171</td>\n",
       "      <td>0.113181</td>\n",
       "      <td>-0.649828</td>\n",
       "      <td>-0.879812</td>\n",
       "      <td>0.938073</td>\n",
       "      <td>-0.369327</td>\n",
       "      <td>-0.747974</td>\n",
       "      <td>0.110146</td>\n",
       "      <td>-0.332149</td>\n",
       "      <td>-0.411089</td>\n",
       "      <td>-0.178118</td>\n",
       "      <td>-0.413412</td>\n",
       "      <td>-0.111664</td>\n",
       "      <td>-0.153314</td>\n",
       "      <td>-0.499137</td>\n",
       "      <td>-0.819831</td>\n",
       "    </tr>\n",
       "    <tr>\n",
       "      <th>2</th>\n",
       "      <td>-0.315294</td>\n",
       "      <td>-1.420756</td>\n",
       "      <td>0.877964</td>\n",
       "      <td>0.566704</td>\n",
       "      <td>-0.467389</td>\n",
       "      <td>-0.369327</td>\n",
       "      <td>0.217156</td>\n",
       "      <td>0.110146</td>\n",
       "      <td>-0.332149</td>\n",
       "      <td>-0.162618</td>\n",
       "      <td>-1.537378</td>\n",
       "      <td>-0.307953</td>\n",
       "      <td>-0.111664</td>\n",
       "      <td>-0.153314</td>\n",
       "      <td>-0.492923</td>\n",
       "      <td>0.847367</td>\n",
       "    </tr>\n",
       "    <tr>\n",
       "      <th>3</th>\n",
       "      <td>-0.155482</td>\n",
       "      <td>-0.653788</td>\n",
       "      <td>-0.649828</td>\n",
       "      <td>-0.623468</td>\n",
       "      <td>-0.100471</td>\n",
       "      <td>-0.369327</td>\n",
       "      <td>-0.747974</td>\n",
       "      <td>-0.884905</td>\n",
       "      <td>3.343954</td>\n",
       "      <td>-0.525506</td>\n",
       "      <td>0.518939</td>\n",
       "      <td>0.253805</td>\n",
       "      <td>-0.111664</td>\n",
       "      <td>-0.153314</td>\n",
       "      <td>-0.536797</td>\n",
       "      <td>-0.823238</td>\n",
       "    </tr>\n",
       "    <tr>\n",
       "      <th>4</th>\n",
       "      <td>0.127215</td>\n",
       "      <td>-1.420756</td>\n",
       "      <td>0.877964</td>\n",
       "      <td>-0.202330</td>\n",
       "      <td>-0.155064</td>\n",
       "      <td>-0.369327</td>\n",
       "      <td>-0.747974</td>\n",
       "      <td>-0.685895</td>\n",
       "      <td>-0.332149</td>\n",
       "      <td>-0.245601</td>\n",
       "      <td>0.754195</td>\n",
       "      <td>0.013956</td>\n",
       "      <td>-0.111664</td>\n",
       "      <td>-0.153314</td>\n",
       "      <td>-0.473941</td>\n",
       "      <td>0.879235</td>\n",
       "    </tr>\n",
       "    <tr>\n",
       "      <th>...</th>\n",
       "      <td>...</td>\n",
       "      <td>...</td>\n",
       "      <td>...</td>\n",
       "      <td>...</td>\n",
       "      <td>...</td>\n",
       "      <td>...</td>\n",
       "      <td>...</td>\n",
       "      <td>...</td>\n",
       "      <td>...</td>\n",
       "      <td>...</td>\n",
       "      <td>...</td>\n",
       "      <td>...</td>\n",
       "      <td>...</td>\n",
       "      <td>...</td>\n",
       "      <td>...</td>\n",
       "      <td>...</td>\n",
       "    </tr>\n",
       "    <tr>\n",
       "      <th>395525</th>\n",
       "      <td>-0.051922</td>\n",
       "      <td>0.113181</td>\n",
       "      <td>0.877964</td>\n",
       "      <td>0.658255</td>\n",
       "      <td>0.268987</td>\n",
       "      <td>-0.369327</td>\n",
       "      <td>1.182286</td>\n",
       "      <td>1.304207</td>\n",
       "      <td>-0.332149</td>\n",
       "      <td>0.317028</td>\n",
       "      <td>0.902320</td>\n",
       "      <td>-0.116360</td>\n",
       "      <td>-0.111664</td>\n",
       "      <td>-0.153314</td>\n",
       "      <td>-0.481625</td>\n",
       "      <td>1.027237</td>\n",
       "    </tr>\n",
       "    <tr>\n",
       "      <th>395526</th>\n",
       "      <td>0.562954</td>\n",
       "      <td>0.880149</td>\n",
       "      <td>0.877964</td>\n",
       "      <td>0.072325</td>\n",
       "      <td>0.091241</td>\n",
       "      <td>-0.369327</td>\n",
       "      <td>4.077677</td>\n",
       "      <td>1.304207</td>\n",
       "      <td>1.505903</td>\n",
       "      <td>0.079593</td>\n",
       "      <td>-0.461297</td>\n",
       "      <td>-0.825924</td>\n",
       "      <td>-0.111664</td>\n",
       "      <td>-0.153314</td>\n",
       "      <td>-0.554691</td>\n",
       "      <td>0.546075</td>\n",
       "    </tr>\n",
       "    <tr>\n",
       "      <th>395527</th>\n",
       "      <td>0.283293</td>\n",
       "      <td>0.880149</td>\n",
       "      <td>0.877964</td>\n",
       "      <td>-0.513606</td>\n",
       "      <td>1.005362</td>\n",
       "      <td>-0.369327</td>\n",
       "      <td>1.182286</td>\n",
       "      <td>1.304207</td>\n",
       "      <td>-0.332149</td>\n",
       "      <td>-0.472191</td>\n",
       "      <td>-0.252180</td>\n",
       "      <td>0.127475</td>\n",
       "      <td>-0.111664</td>\n",
       "      <td>-0.153314</td>\n",
       "      <td>-0.467245</td>\n",
       "      <td>-0.428716</td>\n",
       "    </tr>\n",
       "    <tr>\n",
       "      <th>395528</th>\n",
       "      <td>-1.570239</td>\n",
       "      <td>-1.420756</td>\n",
       "      <td>-2.177620</td>\n",
       "      <td>0.163876</td>\n",
       "      <td>-1.566874</td>\n",
       "      <td>3.227901</td>\n",
       "      <td>0.217156</td>\n",
       "      <td>1.901238</td>\n",
       "      <td>-0.332149</td>\n",
       "      <td>-0.246891</td>\n",
       "      <td>-1.541735</td>\n",
       "      <td>-1.143224</td>\n",
       "      <td>-0.111664</td>\n",
       "      <td>-0.153314</td>\n",
       "      <td>-0.293647</td>\n",
       "      <td>2.977794</td>\n",
       "    </tr>\n",
       "    <tr>\n",
       "      <th>395529</th>\n",
       "      <td>-0.318864</td>\n",
       "      <td>0.880149</td>\n",
       "      <td>0.877964</td>\n",
       "      <td>-0.513606</td>\n",
       "      <td>0.640983</td>\n",
       "      <td>0.829749</td>\n",
       "      <td>-0.747974</td>\n",
       "      <td>-1.083916</td>\n",
       "      <td>-0.332149</td>\n",
       "      <td>-0.250665</td>\n",
       "      <td>0.606071</td>\n",
       "      <td>-0.313330</td>\n",
       "      <td>-0.111664</td>\n",
       "      <td>-0.153314</td>\n",
       "      <td>-0.493076</td>\n",
       "      <td>-0.534730</td>\n",
       "    </tr>\n",
       "  </tbody>\n",
       "</table>\n",
       "<p>395530 rows × 16 columns</p>\n",
       "</div>"
      ],
      "text/plain": [
       "        installment     grade  home_ownership  annual_inc       dti  \\\n",
       "0          1.806000 -0.653788       -2.177620   -0.348813  0.652410   \n",
       "1         -0.460171  0.113181       -0.649828   -0.879812  0.938073   \n",
       "2         -0.315294 -1.420756        0.877964    0.566704 -0.467389   \n",
       "3         -0.155482 -0.653788       -0.649828   -0.623468 -0.100471   \n",
       "4          0.127215 -1.420756        0.877964   -0.202330 -0.155064   \n",
       "...             ...       ...             ...         ...       ...   \n",
       "395525    -0.051922  0.113181        0.877964    0.658255  0.268987   \n",
       "395526     0.562954  0.880149        0.877964    0.072325  0.091241   \n",
       "395527     0.283293  0.880149        0.877964   -0.513606  1.005362   \n",
       "395528    -1.570239 -1.420756       -2.177620    0.163876 -1.566874   \n",
       "395529    -0.318864  0.880149        0.877964   -0.513606  0.640983   \n",
       "\n",
       "        delinq_2yrs  inq_last_6mths  open_acc   pub_rec  revol_bal  \\\n",
       "0         -0.369327       -0.747974  0.508166 -0.332149   0.958627   \n",
       "1         -0.369327       -0.747974  0.110146 -0.332149  -0.411089   \n",
       "2         -0.369327        0.217156  0.110146 -0.332149  -0.162618   \n",
       "3         -0.369327       -0.747974 -0.884905  3.343954  -0.525506   \n",
       "4         -0.369327       -0.747974 -0.685895 -0.332149  -0.245601   \n",
       "...             ...             ...       ...       ...        ...   \n",
       "395525    -0.369327        1.182286  1.304207 -0.332149   0.317028   \n",
       "395526    -0.369327        4.077677  1.304207  1.505903   0.079593   \n",
       "395527    -0.369327        1.182286  1.304207 -0.332149  -0.472191   \n",
       "395528     3.227901        0.217156  1.901238 -0.332149  -0.246891   \n",
       "395529     0.829749       -0.747974 -1.083916 -0.332149  -0.250665   \n",
       "\n",
       "        revol_util  total_pymnt_inv  total_rec_late_fee  recoveries  \\\n",
       "0         0.187837         1.235213           -0.111664   -0.153314   \n",
       "1        -0.178118        -0.413412           -0.111664   -0.153314   \n",
       "2        -1.537378        -0.307953           -0.111664   -0.153314   \n",
       "3         0.518939         0.253805           -0.111664   -0.153314   \n",
       "4         0.754195         0.013956           -0.111664   -0.153314   \n",
       "...            ...              ...                 ...         ...   \n",
       "395525    0.902320        -0.116360           -0.111664   -0.153314   \n",
       "395526   -0.461297        -0.825924           -0.111664   -0.153314   \n",
       "395527   -0.252180         0.127475           -0.111664   -0.153314   \n",
       "395528   -1.541735        -1.143224           -0.111664   -0.153314   \n",
       "395529    0.606071        -0.313330           -0.111664   -0.153314   \n",
       "\n",
       "        last_pymnt_amnt  tot_cur_bal  \n",
       "0             -0.401927    -0.157543  \n",
       "1             -0.499137    -0.819831  \n",
       "2             -0.492923     0.847367  \n",
       "3             -0.536797    -0.823238  \n",
       "4             -0.473941     0.879235  \n",
       "...                 ...          ...  \n",
       "395525        -0.481625     1.027237  \n",
       "395526        -0.554691     0.546075  \n",
       "395527        -0.467245    -0.428716  \n",
       "395528        -0.293647     2.977794  \n",
       "395529        -0.493076    -0.534730  \n",
       "\n",
       "[395530 rows x 16 columns]"
      ]
     },
     "metadata": {},
     "output_type": "display_data"
    }
   ],
   "source": [
    "scaler = StandardScaler()\n",
    "scaler.fit(X)\n",
    "scaled_features = scaler.transform(X)\n",
    "\n",
    "data_scaled = pd.DataFrame(scaled_features,columns = X.columns)\n",
    "display(data_scaled)"
   ]
  },
  {
   "cell_type": "code",
   "execution_count": 345,
   "id": "828585e6",
   "metadata": {},
   "outputs": [
    {
     "data": {
      "text/plain": [
       "array(['installment', 'grade', 'home_ownership', 'annual_inc',\n",
       "       'loan_status', 'dti', 'delinq_2yrs', 'inq_last_6mths', 'open_acc',\n",
       "       'pub_rec', 'revol_bal', 'revol_util', 'total_pymnt_inv',\n",
       "       'total_rec_late_fee', 'recoveries', 'last_pymnt_amnt',\n",
       "       'tot_cur_bal'], dtype=object)"
      ]
     },
     "execution_count": 345,
     "metadata": {},
     "output_type": "execute_result"
    }
   ],
   "source": [
    "ds.columns.values"
   ]
  },
  {
   "cell_type": "markdown",
   "id": "c0e4bac1",
   "metadata": {},
   "source": [
    "-   Skenario 1\n",
    "\n",
    "Misal terdapat data pengguna kartu kredit sebagai berikut:\n",
    "1. installment : 885\n",
    "2. grade : B (1)\n",
    "3. home_ownership : Rent (2)\n",
    "4. annual_inc : 105000\n",
    "5. dti : 21\n",
    "6. delinq_2yrs : 0\n",
    "7. inq_last_6mths : 4\n",
    "8. open_acc : 12\n",
    "9. pub_rec : 0\n",
    "10. revol_bal 52 \n",
    "11. revol_util : 61\n",
    "12. total_pymnt_inv :21444\n",
    "13. total_rec_late_fee : 0\n",
    "14. recoveries : 0\n",
    "15. last_pymnt_amnt : 4027\n",
    "16. tot_cur_bal : 35020\n",
    "\n",
    "Pengguna ini akan termasuk dalam kelompok kredit risk apa?\n"
   ]
  },
  {
   "cell_type": "code",
   "execution_count": 351,
   "id": "b70b1af9",
   "metadata": {},
   "outputs": [
    {
     "name": "stdout",
     "output_type": "stream",
     "text": [
      "Installment:885\n",
      "Grade (\"A: 0, B: 1, C: 2, D: 3, E: 4, F: 5, G: 6\"):1\n",
      "Home ownership (\"NONE: 0, OWN: 1, RENT : 2, MORTGAGE : 3, OTHER : 4 \"):2\n",
      "Annual income:105000\n",
      "Debt-to-Income Ratio:21\n",
      "Total Late Payments in the Last 2 Years:0\n",
      "Inquiries in Last 6 Months:4\n",
      "Number of Open Credit Lines:12\n",
      "Number of Public Record Bankruptcies:0\n",
      "Revolving Balance:52\n",
      "Revolving Line Utilization:61\n",
      "Total Payment Invoice:21444\n",
      "Total Received Late Fee:0\n",
      "Recoveries:0\n",
      "Last Payment Amount:4027\n",
      "\"Total Current Balance:35020\n",
      "Input values: [[ 1.80411286 -0.65378774 -0.64982824  0.56670354  0.41499227 -0.36932679\n",
      "   3.11254693  0.11014569 -0.33214859 -0.78921604  0.17912373  1.25921021\n",
      "  -0.11166434 -0.15331419  0.15099236 -0.68241   ]]\n",
      "Risiko Kredit Peminjam Berada pada Kategori BAHAYA\n"
     ]
    },
    {
     "name": "stderr",
     "output_type": "stream",
     "text": [
      "C:\\Users\\Sidik\\anaconda3\\Lib\\site-packages\\sklearn\\base.py:464: UserWarning: X does not have valid feature names, but StandardScaler was fitted with feature names\n",
      "  warnings.warn(\n",
      "C:\\Users\\Sidik\\anaconda3\\Lib\\site-packages\\sklearn\\base.py:464: UserWarning: X does not have valid feature names, but RandomForestClassifier was fitted with feature names\n",
      "  warnings.warn(\n"
     ]
    }
   ],
   "source": [
    "installment = float(input('Installment:'))\n",
    "grade = float(input('Grade (\"A: 0, B: 1, C: 2, D: 3, E: 4, F: 5, G: 6\"):'))\n",
    "home_ownership = float(input('Home ownership (\"NONE: 0, OWN: 1, RENT : 2, MORTGAGE : 3, OTHER : 4 \"):'))\n",
    "annual_inc = float(input('Annual income:'))\n",
    "dti = float(input('Debt-to-Income Ratio:'))\n",
    "delinq_2yrs = float(input('Total Late Payments in the Last 2 Years:'))\n",
    "inq_last_6mths  = float(input('Inquiries in Last 6 Months:'))\n",
    "open_acc = float(input('Number of Open Credit Lines:'))\n",
    "pub_rec = float(input('Number of Public Record Bankruptcies:'))\n",
    "revol_bal  = float(input('Revolving Balance:'))\n",
    "revol_util = float(input('Revolving Line Utilization:'))\n",
    "total_pymnt_inv = float(input('Total Payment Invoice:'))\n",
    "total_rec_late_fee = float(input('Total Received Late Fee:'))\n",
    "recoveries = float(input('Recoveries:'))\n",
    "last_pymnt_amnt = float(input('Last Payment Amount:'))\n",
    "tot_cur_bal = float(input('\"Total Current Balance:'))\n",
    "\n",
    "\n",
    "val = [installment, grade, home_ownership, annual_inc,\n",
    "       dti, delinq_2yrs, inq_last_6mths, open_acc,\n",
    "       pub_rec, revol_bal, revol_util, total_pymnt_inv, \n",
    "       total_rec_late_fee, recoveries, last_pymnt_amnt, tot_cur_bal]\n",
    "\n",
    "val = scaler.transform([val])\n",
    "\n",
    "print('Input values:', val)\n",
    "\n",
    "val_predict = model_rf.predict(val)\n",
    "\n",
    "if val_predict == 0:\n",
    "    print('Risiko Kredit Peminjam Berada pada Kategori Aman'.format(val_predict))\n",
    "else:\n",
    "    print('Risiko Kredit Peminjam Berada pada Kategori BAHAYA'.format(val_predict))"
   ]
  },
  {
   "cell_type": "code",
   "execution_count": null,
   "id": "405d4cf1",
   "metadata": {},
   "outputs": [],
   "source": []
  }
 ],
 "metadata": {
  "kernelspec": {
   "display_name": "Python 3 (ipykernel)",
   "language": "python",
   "name": "python3"
  },
  "language_info": {
   "codemirror_mode": {
    "name": "ipython",
    "version": 3
   },
   "file_extension": ".py",
   "mimetype": "text/x-python",
   "name": "python",
   "nbconvert_exporter": "python",
   "pygments_lexer": "ipython3",
   "version": "3.11.5"
  }
 },
 "nbformat": 4,
 "nbformat_minor": 5
}
